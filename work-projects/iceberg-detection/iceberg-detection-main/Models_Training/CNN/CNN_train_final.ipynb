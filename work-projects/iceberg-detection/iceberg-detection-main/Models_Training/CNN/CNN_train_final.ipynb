{
 "cells": [
  {
   "cell_type": "code",
   "execution_count": 12,
   "metadata": {},
   "outputs": [],
   "source": [
    "from osgeo import gdal, gdalconst, ogr\n",
    "from skimage import img_as_ubyte\n",
    "import numpy as np\n",
    "from IPython.display import Image, display\n",
    "\n",
    "from Utils.getPoints import pointsAsPixels\n",
    "\n",
    "import torch\n",
    "import torch.nn as nn\n",
    "from torch.utils.data import Dataset, DataLoader\n",
    "import torchvision.transforms.functional as TF \n",
    "import random"
   ]
  },
  {
   "cell_type": "code",
   "execution_count": 13,
   "metadata": {},
   "outputs": [
    {
     "name": "stdout",
     "output_type": "stream",
     "text": [
      "2.0.1\n"
     ]
    }
   ],
   "source": [
    "print(torch.__version__)"
   ]
  },
  {
   "cell_type": "code",
   "execution_count": 3,
   "metadata": {},
   "outputs": [],
   "source": [
    "shapefile_list = [\"06D2/S1A_EW_GRDM_1SDH_20230212T135259_20230212T135341_047203_05A9F4_06D2.shp\",\n",
    "                  \"17F5/S1A_EW_GRDM_1SDH_20230212T135159_20230212T135259_047203_05A9F4_17F5.shp\",\n",
    "                  \"84EF/S1A_EW_GRDM_1SDH_20230118T131123_20230118T131232_046838_059DBE_84EF.shp\",\n",
    "                  \"264D/S1A_EW_GRDM_1SDH_20230209T150434_20230209T150539_047160_05A886_264D.shp\",\n",
    "                  \"D15B/S1A_EW_GRDM_1SDH_20230118T131019_20230118T131123_046838_059DBE_D15B.shp\",\n",
    "                  \"E82B/S1A_EW_GRDM_1SDH_20230209T150539_20230209T150639_047160_05A886_E82B.shp\"]\n",
    "\n",
    "sar_image_list = [\"SNAP_Images/06D2/S1A_EW_GRDM_1SDH_20230212T135259_20230212T135341_047203_05A9F4_06D2_Orb_NR_Cal_Spk_THR_SHP_EC.tif\",\n",
    "            \"SNAP_Images/17F5/S1A_EW_GRDM_1SDH_20230212T135159_20230212T135259_047203_05A9F4_17F5_Orb_NR_Cal_Spk_THR_SHP_EC.tif\",\n",
    "            \"SNAP_Images/84EF/S1A_EW_GRDM_1SDH_20230118T131123_20230118T131232_046838_059DBE_84EF_Orb_NR_Cal_Spk_THR_SHP_EC.tif\",\n",
    "            \"SNAP_Images/264D/S1A_EW_GRDM_1SDH_20230209T150434_20230209T150539_047160_05A886_264D_Orb_NR_Cal_Spk_THR_SHP_EC.tif\",\n",
    "            \"SNAP_Images/D15B/S1A_EW_GRDM_1SDH_20230118T131019_20230118T131123_046838_059DBE_D15B_Orb_NR_Cal_Spk_THR_SHP_EC.tif\",\n",
    "            \"SNAP_Images/E82B/S1A_EW_GRDM_1SDH_20230209T150539_20230209T150639_047160_05A886_E82B_Orb_NR_Cal_Spk_THR_SHP_EC.tif\",]\n"
   ]
  },
  {
   "cell_type": "markdown",
   "metadata": {},
   "source": [
    "Simple CNN"
   ]
  },
  {
   "cell_type": "code",
   "execution_count": 4,
   "metadata": {},
   "outputs": [],
   "source": [
    "# CNN Model\n",
    "class CNN(nn.Module):\n",
    "    def __init__(self, height, width):\n",
    "        super(CNN, self).__init__()\n",
    "        self.height = height\n",
    "        self.width = width\n",
    "        self.conv_layers = nn.Sequential(\n",
    "            nn.Conv2d(in_channels=1, out_channels=8, kernel_size=3, padding=1),\n",
    "            nn.ReLU(),\n",
    "            nn.MaxPool2d(kernel_size=2, stride=2),\n",
    "            nn.Conv2d(in_channels=8, out_channels=16, kernel_size=3, padding=1),\n",
    "            nn.ReLU(),\n",
    "            nn.MaxPool2d(kernel_size=2, stride=2)\n",
    "        )\n",
    "\n",
    "    def forward(self, x):\n",
    "        x = self.conv_layers(x)\n",
    "        x = x.view(x.size(0), -1)\n",
    "        fc_layers = nn.Sequential(\n",
    "            nn.Linear(x.shape[1], 1),\n",
    "            nn.Sigmoid()\n",
    "        )\n",
    "        x = fc_layers(x)\n",
    "        return x\n"
   ]
  },
  {
   "cell_type": "code",
   "execution_count": 5,
   "metadata": {},
   "outputs": [],
   "source": [
    "batch_size = 64\n",
    "shape = 30\n",
    "model = CNN(height = shape, width = shape)\n",
    "\n",
    "criterion = nn.BCEWithLogitsLoss() # nn.BCELoss()\n",
    "optimizer = torch.optim.Adam(model.parameters(), lr=0.01) "
   ]
  },
  {
   "cell_type": "code",
   "execution_count": 6,
   "metadata": {},
   "outputs": [
    {
     "name": "stdout",
     "output_type": "stream",
     "text": [
      "SNAP_Images/06D2/S1A_EW_GRDM_1SDH_20230212T135259_20230212T135341_047203_05A9F4_06D2_Orb_NR_Cal_Spk_THR_SHP_EC.tif\n",
      "project/06D2/06D2.shp\n"
     ]
    },
    {
     "name": "stderr",
     "output_type": "stream",
     "text": [
      "Warning 1: SNAP_Images/06D2/S1A_EW_GRDM_1SDH_20230212T135259_20230212T135341_047203_05A9F4_06D2_Orb_NR_Cal_Spk_THR_SHP_EC.tif: TIFFReadDirectory:Sum of Photometric type-related color channels and ExtraSamples doesn't match SamplesPerPixel. Defining non-color channels as ExtraSamples.\n",
      "ERROR 1: PROJ: proj_identify: SQLite error on SELECT name, coordinate_system_auth_name, coordinate_system_code, geodetic_crs_auth_name, geodetic_crs_code, conversion_auth_name, conversion_code, area_of_use_auth_name, area_of_use_code, text_definition, deprecated FROM projected_crs WHERE auth_name = ? AND code = ?: no such column: area_of_use_auth_name\n"
     ]
    },
    {
     "name": "stdout",
     "output_type": "stream",
     "text": [
      "training\n",
      "Epoch [1/50], Average Loss : 0.5592577457427979\n",
      "Epoch [6/50], Average Loss : 0.652182400226593\n",
      "Epoch [11/50], Average Loss : 0.600923478603363\n",
      "Epoch [16/50], Average Loss : 0.6342452764511108\n",
      "Epoch [21/50], Average Loss : 0.5244070887565613\n",
      "Epoch [26/50], Average Loss : 0.6687339544296265\n",
      "Epoch [31/50], Average Loss : 0.5461313128471375\n",
      "Epoch [36/50], Average Loss : 0.584213376045227\n",
      "Epoch [41/50], Average Loss : 0.6583733558654785\n",
      "Epoch [46/50], Average Loss : 0.6510501503944397\n",
      "\n",
      "SNAP_Images/84EF/S1A_EW_GRDM_1SDH_20230118T131123_20230118T131232_046838_059DBE_84EF_Orb_NR_Cal_Spk_THR_SHP_EC.tif\n",
      "project/84EF/84EF.shp\n"
     ]
    },
    {
     "name": "stderr",
     "output_type": "stream",
     "text": [
      "Warning 1: SNAP_Images/84EF/S1A_EW_GRDM_1SDH_20230118T131123_20230118T131232_046838_059DBE_84EF_Orb_NR_Cal_Spk_THR_SHP_EC.tif: TIFFReadDirectory:Sum of Photometric type-related color channels and ExtraSamples doesn't match SamplesPerPixel. Defining non-color channels as ExtraSamples.\n",
      "ERROR 1: PROJ: proj_identify: SQLite error on SELECT name, coordinate_system_auth_name, coordinate_system_code, geodetic_crs_auth_name, geodetic_crs_code, conversion_auth_name, conversion_code, area_of_use_auth_name, area_of_use_code, text_definition, deprecated FROM projected_crs WHERE auth_name = ? AND code = ?: no such column: area_of_use_auth_name\n"
     ]
    },
    {
     "name": "stdout",
     "output_type": "stream",
     "text": [
      "training\n",
      "Epoch [1/50], Average Loss : 0.6376059293746948\n",
      "Epoch [6/50], Average Loss : 0.6427482277154922\n",
      "Epoch [11/50], Average Loss : 0.6370945066213608\n",
      "Epoch [16/50], Average Loss : 0.6365340620279312\n",
      "Epoch [21/50], Average Loss : 0.6381855100393296\n",
      "Epoch [26/50], Average Loss : 0.6381023705005646\n",
      "Epoch [31/50], Average Loss : 0.6377218782901763\n",
      "Epoch [36/50], Average Loss : 0.6369765758514404\n",
      "Epoch [41/50], Average Loss : 0.637134113907814\n",
      "Epoch [46/50], Average Loss : 0.6371440291404724\n",
      "\n",
      "SNAP_Images/264D/S1A_EW_GRDM_1SDH_20230209T150434_20230209T150539_047160_05A886_264D_Orb_NR_Cal_Spk_THR_SHP_EC.tif\n",
      "project/264D/264D.shp\n"
     ]
    },
    {
     "name": "stderr",
     "output_type": "stream",
     "text": [
      "Warning 1: SNAP_Images/264D/S1A_EW_GRDM_1SDH_20230209T150434_20230209T150539_047160_05A886_264D_Orb_NR_Cal_Spk_THR_SHP_EC.tif: TIFFReadDirectory:Sum of Photometric type-related color channels and ExtraSamples doesn't match SamplesPerPixel. Defining non-color channels as ExtraSamples.\n",
      "ERROR 1: PROJ: proj_identify: SQLite error on SELECT name, coordinate_system_auth_name, coordinate_system_code, geodetic_crs_auth_name, geodetic_crs_code, conversion_auth_name, conversion_code, area_of_use_auth_name, area_of_use_code, text_definition, deprecated FROM projected_crs WHERE auth_name = ? AND code = ?: no such column: area_of_use_auth_name\n"
     ]
    },
    {
     "name": "stdout",
     "output_type": "stream",
     "text": [
      "training\n",
      "Epoch [1/50], Average Loss : 0.6469286719718611\n",
      "Epoch [6/50], Average Loss : 0.6389012968683817\n",
      "Epoch [11/50], Average Loss : 0.6404496539069946\n",
      "Epoch [16/50], Average Loss : 0.6389202568904463\n",
      "Epoch [21/50], Average Loss : 0.640521810715457\n",
      "Epoch [26/50], Average Loss : 0.6384668027062014\n",
      "Epoch [31/50], Average Loss : 0.6393797354525831\n",
      "Epoch [36/50], Average Loss : 0.640492371765964\n",
      "Epoch [41/50], Average Loss : 0.6395601759473961\n",
      "Epoch [46/50], Average Loss : 0.6404328999749149\n",
      "\n",
      "SNAP_Images/D15B/S1A_EW_GRDM_1SDH_20230118T131019_20230118T131123_046838_059DBE_D15B_Orb_NR_Cal_Spk_THR_SHP_EC.tif\n",
      "project/D15B/D15B.shp\n"
     ]
    },
    {
     "name": "stderr",
     "output_type": "stream",
     "text": [
      "Warning 1: SNAP_Images/D15B/S1A_EW_GRDM_1SDH_20230118T131019_20230118T131123_046838_059DBE_D15B_Orb_NR_Cal_Spk_THR_SHP_EC.tif: TIFFReadDirectory:Sum of Photometric type-related color channels and ExtraSamples doesn't match SamplesPerPixel. Defining non-color channels as ExtraSamples.\n",
      "ERROR 1: PROJ: proj_identify: SQLite error on SELECT name, coordinate_system_auth_name, coordinate_system_code, geodetic_crs_auth_name, geodetic_crs_code, conversion_auth_name, conversion_code, area_of_use_auth_name, area_of_use_code, text_definition, deprecated FROM projected_crs WHERE auth_name = ? AND code = ?: no such column: area_of_use_auth_name\n"
     ]
    },
    {
     "name": "stdout",
     "output_type": "stream",
     "text": [
      "training\n",
      "Epoch [1/50], Average Loss : 0.638410480862314\n",
      "Epoch [6/50], Average Loss : 0.6384465382857756\n",
      "Epoch [11/50], Average Loss : 0.6382329430092465\n",
      "Epoch [16/50], Average Loss : 0.6382271166552197\n",
      "Epoch [21/50], Average Loss : 0.6387201114134355\n",
      "Epoch [26/50], Average Loss : 0.6382985264062881\n",
      "Epoch [31/50], Average Loss : 0.6390989402478392\n",
      "Epoch [36/50], Average Loss : 0.6389329203150489\n",
      "Epoch [41/50], Average Loss : 0.6392116228287871\n",
      "Epoch [46/50], Average Loss : 0.6387069929729808\n",
      "\n",
      "SNAP_Images/E82B/S1A_EW_GRDM_1SDH_20230209T150539_20230209T150639_047160_05A886_E82B_Orb_NR_Cal_Spk_THR_SHP_EC.tif\n",
      "project/E82B/E82B.shp\n"
     ]
    },
    {
     "name": "stderr",
     "output_type": "stream",
     "text": [
      "Warning 1: SNAP_Images/E82B/S1A_EW_GRDM_1SDH_20230209T150539_20230209T150639_047160_05A886_E82B_Orb_NR_Cal_Spk_THR_SHP_EC.tif: TIFFReadDirectory:Sum of Photometric type-related color channels and ExtraSamples doesn't match SamplesPerPixel. Defining non-color channels as ExtraSamples.\n",
      "ERROR 1: PROJ: proj_identify: SQLite error on SELECT name, coordinate_system_auth_name, coordinate_system_code, geodetic_crs_auth_name, geodetic_crs_code, conversion_auth_name, conversion_code, area_of_use_auth_name, area_of_use_code, text_definition, deprecated FROM projected_crs WHERE auth_name = ? AND code = ?: no such column: area_of_use_auth_name\n"
     ]
    },
    {
     "name": "stdout",
     "output_type": "stream",
     "text": [
      "training\n",
      "Epoch [1/50], Average Loss : 0.6394722064336141\n",
      "Epoch [6/50], Average Loss : 0.6346553762753805\n",
      "Epoch [11/50], Average Loss : 0.638267437616984\n",
      "Epoch [16/50], Average Loss : 0.6421972711881002\n",
      "Epoch [21/50], Average Loss : 0.6425142685572306\n",
      "Epoch [26/50], Average Loss : 0.6382994850476583\n",
      "Epoch [31/50], Average Loss : 0.6381306250890096\n",
      "Epoch [36/50], Average Loss : 0.6325142979621887\n",
      "Epoch [41/50], Average Loss : 0.6403449773788452\n",
      "Epoch [46/50], Average Loss : 0.6390873392422994\n",
      "\n"
     ]
    }
   ],
   "source": [
    "\n",
    "for index in range(len(sar_image_list)):\n",
    "    # import shapefiles and image\n",
    "    # Open the SAR data and get transform\n",
    "    sar_image = sar_image_list[index]\n",
    "    shapefile = shapefile_list[index]\n",
    "    print(sar_image)\n",
    "    print(shapefile)\n",
    "\n",
    "    ds = gdal.Open(sar_image, gdalconst.GA_ReadOnly)\n",
    "    image = np.asarray(ds.GetRasterBand(1).ReadAsArray())\n",
    "\n",
    "    image = img_as_ubyte(image)\n",
    "    height, width = image.shape\n",
    "\n",
    "    gt=ds.GetGeoTransform()\n",
    "    px, py = pointsAsPixels(shapefile, gt)\n",
    "\n",
    "    label_list = np.zeros_like(image)\n",
    "    for (x, y) in zip(px, py):\n",
    "        label_list[y][x] = 1\n",
    "\n",
    "    xsize, ysize = image.shape\n",
    "\n",
    "    img_list = []\n",
    "\n",
    "    for (x, y) in zip(px, py):\n",
    "        x_max = min(x + shape//2, xsize)\n",
    "        x_min = max(x - shape//2, 0)\n",
    "        y_max = min(y + shape//2, ysize)\n",
    "        y_min = max(y - shape//2, 0)\n",
    "        sub = image[y_min:y_max, x_min:x_max]\n",
    "        img_list.append((sub, 1))\n",
    "\n",
    "    newxs = [random.randint(15, xsize-15) for _ in range(len(img_list)//2)]\n",
    "    newys = [random.randint(15, ysize-15) for _ in range(len(img_list)//2)]\n",
    "    for (x, y) in zip(newxs, newys):\n",
    "        while x in px and y in px:\n",
    "            x = random.randint(0, xsize)\n",
    "            y = random.randint(0, ysize)\n",
    "        x_max = x + shape//2\n",
    "        x_min = x - shape//2\n",
    "        y_max = y + shape//2\n",
    "        y_min = y - shape//2\n",
    "        sub = image[y_min:y_max, x_min:x_max]\n",
    "        if sub.shape == (30, 30):\n",
    "            img_list.append((sub, 0))\n",
    "            \n",
    "    print(\"training\")\n",
    "    train_loader = DataLoader(img_list, batch_size=batch_size, shuffle=True)\n",
    "    num_epochs = 50\n",
    "    for epoch in range(num_epochs):\n",
    "        epoch_loss = 0\n",
    "        for images, l in train_loader:\n",
    "            images = images.float()\n",
    "            optimizer.zero_grad()\n",
    "            images = images.unsqueeze(1)\n",
    "            l = l.unsqueeze(1).float()\n",
    "            outputs = model(images)\n",
    "            loss = criterion(outputs, l)\n",
    "            loss.backward()\n",
    "            optimizer.step()\n",
    "            epoch_loss += loss.item()\n",
    "\n",
    "        epoch_loss /= len(train_loader)\n",
    "        if epoch % 5 == 0:\n",
    "            print(f\"Epoch [{epoch+1}/{num_epochs}], Average Loss : {epoch_loss}\")\n",
    "\n",
    "    print()\n",
    "        "
   ]
  },
  {
   "cell_type": "code",
   "execution_count": 7,
   "metadata": {},
   "outputs": [],
   "source": [
    "# import matplotlib.pyplot as plt\n",
    "# fig = plt.figure()\n",
    "# ax1 = fig.add_subplot(111)\n",
    "# ax1.imshow(image)\n",
    "# ax1.contour(label_list)"
   ]
  },
  {
   "cell_type": "code",
   "execution_count": 11,
   "metadata": {},
   "outputs": [
    {
     "name": "stdout",
     "output_type": "stream",
     "text": [
      "Saving Model state to CNN_model.pt\n"
     ]
    }
   ],
   "source": [
    "# Specify a path\n",
    "PATH = \"CNN_model.pt\"\n",
    "# Save\n",
    "torch.save(model, PATH)\n",
    "print(\"Saving Model state to\", PATH)"
   ]
  }
 ],
 "metadata": {
  "kernelspec": {
   "display_name": ".venv",
   "language": "python",
   "name": "python3"
  },
  "language_info": {
   "codemirror_mode": {
    "name": "ipython",
    "version": 3
   },
   "file_extension": ".py",
   "mimetype": "text/x-python",
   "name": "python",
   "nbconvert_exporter": "python",
   "pygments_lexer": "ipython3",
   "version": "3.9.7"
  },
  "orig_nbformat": 4
 },
 "nbformat": 4,
 "nbformat_minor": 2
}

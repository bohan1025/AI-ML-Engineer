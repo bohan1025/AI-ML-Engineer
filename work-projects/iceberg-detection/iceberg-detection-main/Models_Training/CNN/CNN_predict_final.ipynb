{
 "cells": [
  {
   "cell_type": "code",
   "execution_count": 87,
   "metadata": {},
   "outputs": [],
   "source": [
    "from osgeo import gdal, gdalconst, ogr\n",
    "from skimage import img_as_ubyte\n",
    "import numpy as np\n",
    "from IPython.display import Image, display\n",
    "\n",
    "import sys\n",
    "sys.path.append(\"..\")\n",
    "\n",
    "from Utils.getPoints import pointsAsPixels\n",
    "from Utils.croptest import croptest\n",
    "from Utils.crop import cropimage\n",
    "from Utils.plotimage import plot_predict\n",
    "import Utils.myGeoTools as mgt\n",
    "import torch\n",
    "import torch.nn as nn\n",
    "from torch.utils.data import Dataset, DataLoader\n",
    "import torchvision.transforms.functional as TF \n",
    "\n",
    "import fiona\n",
    "from pyproj import CRS\n",
    "import random"
   ]
  },
  {
   "cell_type": "code",
   "execution_count": 88,
   "metadata": {},
   "outputs": [
    {
     "name": "stdout",
     "output_type": "stream",
     "text": [
      "2.0.1\n"
     ]
    }
   ],
   "source": [
    "print(torch.__version__)"
   ]
  },
  {
   "cell_type": "code",
   "execution_count": 89,
   "metadata": {},
   "outputs": [],
   "source": [
    "sar_image_list = [\"SNAP_Images/1D5D/S1A_EW_GRDM_1SDH_20230204T145728_20230204T145828_047087_05A61A_1D5D_Orb_NR_Cal_Spk_THR_SHP_EC.tif\",\n",
    "                  \"SNAP_Images/06D2/S1A_EW_GRDM_1SDH_20230212T135259_20230212T135341_047203_05A9F4_06D2_Orb_NR_Cal_Spk_THR_SHP_EC.tif\",\n",
    "                  \"SNAP_Images/17F5/S1A_EW_GRDM_1SDH_20230212T135159_20230212T135259_047203_05A9F4_17F5_Orb_NR_Cal_Spk_THR_SHP_EC.tif\",\n",
    "                  \"SNAP_Images/84EF/S1A_EW_GRDM_1SDH_20230118T131123_20230118T131232_046838_059DBE_84EF_Orb_NR_Cal_Spk_THR_SHP_EC.tif\",\n",
    "                  \"SNAP_Images/264D/S1A_EW_GRDM_1SDH_20230209T150434_20230209T150539_047160_05A886_264D_Orb_NR_Cal_Spk_THR_SHP_EC.tif\",\n",
    "                  \"SNAP_Images/A890/S1A_EW_GRDM_1SDH_20230116T132728_20230116T132828_046809_059CC4_A890_Orb_NR_Cal_Spk_THR_SHP_EC.tif\",\n",
    "                  \"SNAP_Images/D15B/S1A_EW_GRDM_1SDH_20230118T131019_20230118T131123_046838_059DBE_D15B_Orb_NR_Cal_Spk_THR_SHP_EC.tif\",\n",
    "                  \"SNAP_Images/E82B/S1A_EW_GRDM_1SDH_20230209T150539_20230209T150639_047160_05A886_E82B_Orb_NR_Cal_Spk_THR_SHP_EC.tif\",]"
   ]
  },
  {
   "cell_type": "markdown",
   "metadata": {},
   "source": [
    "Simple CNN"
   ]
  },
  {
   "cell_type": "code",
   "execution_count": 90,
   "metadata": {},
   "outputs": [],
   "source": [
    "# CNN Model\n",
    "class CNN(nn.Module):\n",
    "    def __init__(self, height, width):\n",
    "        super(CNN, self).__init__()\n",
    "        self.height = height\n",
    "        self.width = width\n",
    "        self.conv_layers = nn.Sequential(\n",
    "            nn.Conv2d(in_channels=1, out_channels=8, kernel_size=3, padding=1),\n",
    "            nn.ReLU(),\n",
    "            nn.MaxPool2d(kernel_size=2, stride=2),\n",
    "            nn.Conv2d(in_channels=8, out_channels=16, kernel_size=3, padding=1),\n",
    "            nn.ReLU(),\n",
    "            nn.MaxPool2d(kernel_size=2, stride=2)\n",
    "        )\n",
    "\n",
    "    def forward(self, x):\n",
    "        x = self.conv_layers(x)\n",
    "        x = x.view(x.size(0), -1)\n",
    "        fc_layers = nn.Sequential(\n",
    "            nn.Linear(x.shape[1], 1),\n",
    "            nn.Sigmoid()\n",
    "        )\n",
    "        x = fc_layers(x)\n",
    "        return x"
   ]
  },
  {
   "cell_type": "code",
   "execution_count": 91,
   "metadata": {},
   "outputs": [
    {
     "data": {
      "text/plain": [
       "CNN(\n",
       "  (conv_layers): Sequential(\n",
       "    (0): Conv2d(1, 8, kernel_size=(3, 3), stride=(1, 1), padding=(1, 1))\n",
       "    (1): ReLU()\n",
       "    (2): MaxPool2d(kernel_size=2, stride=2, padding=0, dilation=1, ceil_mode=False)\n",
       "    (3): Conv2d(8, 16, kernel_size=(3, 3), stride=(1, 1), padding=(1, 1))\n",
       "    (4): ReLU()\n",
       "    (5): MaxPool2d(kernel_size=2, stride=2, padding=0, dilation=1, ceil_mode=False)\n",
       "  )\n",
       ")"
      ]
     },
     "execution_count": 91,
     "metadata": {},
     "output_type": "execute_result"
    }
   ],
   "source": [
    "# Load model\n",
    "model = torch.load(\"CNN_model.pt\")\n",
    "model.eval()"
   ]
  },
  {
   "cell_type": "code",
   "execution_count": 92,
   "metadata": {},
   "outputs": [],
   "source": [
    "def exportShpFromCentroid(centroids, shpPath, gt):\n",
    "    \"\"\"Export a shapefile from a list of centroid, after\n",
    "    remapping to coordinate system of the image.\n",
    "    \"\"\"\n",
    "    # Save centroids as point shapefile\n",
    "    schema = {\"geometry\": \"Point\", \"properties\": {}}\n",
    "    crs = CRS.from_epsg(4326)\n",
    "    with fiona.open(shpPath, \"w\", \"ESRI Shapefile\", schema, crs=crs) as output:\n",
    "        for centroid in centroids:\n",
    "            px, py = centroid\n",
    "            cx, cy = mgt.pixel2coord(gt, px, py)\n",
    "            point = {\"type\": \"Point\", \"coordinates\": (cx, cy)}\n",
    "            output.write({\"geometry\": point, \"properties\": {}})"
   ]
  },
  {
   "cell_type": "code",
   "execution_count": 138,
   "metadata": {},
   "outputs": [
    {
     "name": "stdout",
     "output_type": "stream",
     "text": [
      "SNAP_Images/1D5D/S1A_EW_GRDM_1SDH_20230204T145728_20230204T145828_047087_05A61A_1D5D_Orb_NR_Cal_Spk_THR_SHP_EC.tif\n"
     ]
    },
    {
     "name": "stderr",
     "output_type": "stream",
     "text": [
      "Warning 1: SNAP_Images/1D5D/S1A_EW_GRDM_1SDH_20230204T145728_20230204T145828_047087_05A61A_1D5D_Orb_NR_Cal_Spk_THR_SHP_EC.tif: TIFFReadDirectory:Sum of Photometric type-related color channels and ExtraSamples doesn't match SamplesPerPixel. Defining non-color channels as ExtraSamples.\n"
     ]
    },
    {
     "name": "stdout",
     "output_type": "stream",
     "text": [
      "2961\n",
      "SNAP_Images/06D2/S1A_EW_GRDM_1SDH_20230212T135259_20230212T135341_047203_05A9F4_06D2_Orb_NR_Cal_Spk_THR_SHP_EC.tif\n"
     ]
    },
    {
     "name": "stderr",
     "output_type": "stream",
     "text": [
      "Warning 1: SNAP_Images/06D2/S1A_EW_GRDM_1SDH_20230212T135259_20230212T135341_047203_05A9F4_06D2_Orb_NR_Cal_Spk_THR_SHP_EC.tif: TIFFReadDirectory:Sum of Photometric type-related color channels and ExtraSamples doesn't match SamplesPerPixel. Defining non-color channels as ExtraSamples.\n"
     ]
    },
    {
     "name": "stdout",
     "output_type": "stream",
     "text": [
      "704\n",
      "SNAP_Images/17F5/S1A_EW_GRDM_1SDH_20230212T135159_20230212T135259_047203_05A9F4_17F5_Orb_NR_Cal_Spk_THR_SHP_EC.tif\n"
     ]
    },
    {
     "name": "stderr",
     "output_type": "stream",
     "text": [
      "Warning 1: SNAP_Images/17F5/S1A_EW_GRDM_1SDH_20230212T135159_20230212T135259_047203_05A9F4_17F5_Orb_NR_Cal_Spk_THR_SHP_EC.tif: TIFFReadDirectory:Sum of Photometric type-related color channels and ExtraSamples doesn't match SamplesPerPixel. Defining non-color channels as ExtraSamples.\n"
     ]
    },
    {
     "name": "stdout",
     "output_type": "stream",
     "text": [
      "5568\n",
      "SNAP_Images/84EF/S1A_EW_GRDM_1SDH_20230118T131123_20230118T131232_046838_059DBE_84EF_Orb_NR_Cal_Spk_THR_SHP_EC.tif\n"
     ]
    },
    {
     "name": "stderr",
     "output_type": "stream",
     "text": [
      "Warning 1: SNAP_Images/84EF/S1A_EW_GRDM_1SDH_20230118T131123_20230118T131232_046838_059DBE_84EF_Orb_NR_Cal_Spk_THR_SHP_EC.tif: TIFFReadDirectory:Sum of Photometric type-related color channels and ExtraSamples doesn't match SamplesPerPixel. Defining non-color channels as ExtraSamples.\n"
     ]
    },
    {
     "name": "stdout",
     "output_type": "stream",
     "text": [
      "1617\n",
      "SNAP_Images/264D/S1A_EW_GRDM_1SDH_20230209T150434_20230209T150539_047160_05A886_264D_Orb_NR_Cal_Spk_THR_SHP_EC.tif\n"
     ]
    },
    {
     "name": "stderr",
     "output_type": "stream",
     "text": [
      "Warning 1: SNAP_Images/264D/S1A_EW_GRDM_1SDH_20230209T150434_20230209T150539_047160_05A886_264D_Orb_NR_Cal_Spk_THR_SHP_EC.tif: TIFFReadDirectory:Sum of Photometric type-related color channels and ExtraSamples doesn't match SamplesPerPixel. Defining non-color channels as ExtraSamples.\n"
     ]
    },
    {
     "name": "stdout",
     "output_type": "stream",
     "text": [
      "1984\n",
      "SNAP_Images/A890/S1A_EW_GRDM_1SDH_20230116T132728_20230116T132828_046809_059CC4_A890_Orb_NR_Cal_Spk_THR_SHP_EC.tif\n"
     ]
    },
    {
     "name": "stderr",
     "output_type": "stream",
     "text": [
      "Warning 1: SNAP_Images/A890/S1A_EW_GRDM_1SDH_20230116T132728_20230116T132828_046809_059CC4_A890_Orb_NR_Cal_Spk_THR_SHP_EC.tif: TIFFReadDirectory:Sum of Photometric type-related color channels and ExtraSamples doesn't match SamplesPerPixel. Defining non-color channels as ExtraSamples.\n"
     ]
    },
    {
     "name": "stdout",
     "output_type": "stream",
     "text": [
      "4608\n",
      "SNAP_Images/D15B/S1A_EW_GRDM_1SDH_20230118T131019_20230118T131123_046838_059DBE_D15B_Orb_NR_Cal_Spk_THR_SHP_EC.tif\n"
     ]
    },
    {
     "name": "stderr",
     "output_type": "stream",
     "text": [
      "Warning 1: SNAP_Images/D15B/S1A_EW_GRDM_1SDH_20230118T131019_20230118T131123_046838_059DBE_D15B_Orb_NR_Cal_Spk_THR_SHP_EC.tif: TIFFReadDirectory:Sum of Photometric type-related color channels and ExtraSamples doesn't match SamplesPerPixel. Defining non-color channels as ExtraSamples.\n"
     ]
    },
    {
     "name": "stdout",
     "output_type": "stream",
     "text": [
      "3712\n",
      "SNAP_Images/E82B/S1A_EW_GRDM_1SDH_20230209T150539_20230209T150639_047160_05A886_E82B_Orb_NR_Cal_Spk_THR_SHP_EC.tif\n"
     ]
    },
    {
     "name": "stderr",
     "output_type": "stream",
     "text": [
      "Warning 1: SNAP_Images/E82B/S1A_EW_GRDM_1SDH_20230209T150539_20230209T150639_047160_05A886_E82B_Orb_NR_Cal_Spk_THR_SHP_EC.tif: TIFFReadDirectory:Sum of Photometric type-related color channels and ExtraSamples doesn't match SamplesPerPixel. Defining non-color channels as ExtraSamples.\n"
     ]
    },
    {
     "name": "stdout",
     "output_type": "stream",
     "text": [
      "324\n"
     ]
    }
   ],
   "source": [
    "for index in range(len(sar_image_list)):\n",
    "    sar_image = sar_image_list[index]\n",
    "    print(sar_image)\n",
    "\n",
    "    # import shapefiles and image\n",
    "    # Open the SAR data and get transform\n",
    "    ds = gdal.Open(sar_image, gdalconst.GA_ReadOnly)\n",
    "    image = np.asarray(ds.GetRasterBand(1).ReadAsArray())\n",
    "\n",
    "    image = img_as_ubyte(image)\n",
    "    height, width = image.shape\n",
    "\n",
    "    gt=ds.GetGeoTransform()\n",
    "\n",
    "    # crop\n",
    "    shape = 30\n",
    "    xsize, ysize = image.shape\n",
    "    inp = []\n",
    "    step = [250, 400, 150, 300, 250, 150, 200, 550]\n",
    "    for x in range(15, image.shape[1]-15, step[index]):\n",
    "        for y in range(15, image.shape[0]-15, step[index]):\n",
    "            x_max = min(x + shape//2, xsize)\n",
    "            x_min = max(x - shape//2, 0)\n",
    "            y_max = min(y + shape//2, ysize)\n",
    "            y_min = max(y - shape//2, 0)\n",
    "            sub = image[y_min:y_max, x_min:x_max]\n",
    "            if sub.shape == (30, 30):\n",
    "                inp.append((sub, (y, x)))\n",
    "    \n",
    "    batch_size = 64\n",
    "    train_loader = DataLoader(inp, batch_size=batch_size, shuffle=False)\n",
    "\n",
    "    output = np.zeros_like(image)\n",
    "\n",
    "    for images, (y, x) in train_loader:\n",
    "        images = images.float()\n",
    "        images = images.unsqueeze(1)\n",
    "        outputs = model(images)\n",
    "        pre = (outputs > 0.5).float()\n",
    "        for i in range(len(pre)):\n",
    "            if pre[i] == 1:\n",
    "                output[y, x] = 1\n",
    "    print(np.sum(output))\n",
    "    exportShpFromCentroid(output, \"predict_shp.shp\", gt)"
   ]
  }
 ],
 "metadata": {
  "kernelspec": {
   "display_name": ".venv",
   "language": "python",
   "name": "python3"
  },
  "language_info": {
   "codemirror_mode": {
    "name": "ipython",
    "version": 3
   },
   "file_extension": ".py",
   "mimetype": "text/x-python",
   "name": "python",
   "nbconvert_exporter": "python",
   "pygments_lexer": "ipython3",
   "version": "3.9.7"
  },
  "orig_nbformat": 4
 },
 "nbformat": 4,
 "nbformat_minor": 2
}

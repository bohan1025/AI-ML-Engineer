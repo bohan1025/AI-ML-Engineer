{
 "cells": [
  {
   "cell_type": "markdown",
   "metadata": {},
   "source": [
    "# Iceberg Detection Voting method\n",
    "\n",
    "Use this notebook to detect icebergs\n",
    "\n",
    "Input : \n",
    "- GeoTiff file exported from SNAP \n",
    "\n",
    "Output :\n",
    "- 3 shapefiles: SNAP output, 3 votes, 2+3 votes\n",
    "\n",
    "Make sure the shapefiles are compatible with QGIS."
   ]
  },
  {
   "cell_type": "markdown",
   "metadata": {},
   "source": [
    "## Workflow - Users' manual\n",
    "\n",
    "1. Download .SAFE file from Copernicus Dataspace (https://dataspace.copernicus.eu/browser).\n",
    "2. Process file with SNAP with premade graph builder, the image will be preprocessed, icebergs detected with CFAR, and exported as GeoTiff.\n",
    "3. Run this notebook with that GeoTiff file as input, choose an output folder.\n",
    "4. Output is 3 shapefiles to be used for human validation and augmentation."
   ]
  },
  {
   "cell_type": "markdown",
   "metadata": {},
   "source": [
    "## Input file\n",
    "\n",
    "File extension must be .tif, the input file should be the .tif file exported from CFAR."
   ]
  },
  {
   "cell_type": "code",
   "execution_count": 1,
   "metadata": {},
   "outputs": [],
   "source": [
    "# Various imports\n",
    "from skimage import img_as_ubyte\n",
    "from osgeo import gdal, gdalconst\n",
    "import numpy as np\n",
    "import os\n",
    "import torch\n",
    "\n",
    "from Utils.ShpPathMaker import ShpPathMaker\n",
    "from Utils.save_shapefile import save_shapefile\n",
    "from Utils.contouring import contouring"
   ]
  },
  {
   "cell_type": "code",
   "execution_count": 2,
   "metadata": {},
   "outputs": [],
   "source": [
    "# ================================= Choose image to process =================================\n",
    "# The path should start with \"SNAP_Images\". Example:\n",
    "# \"SNAP_Images/1D5D/S1A_EW_GRDM_1SDH_20230204T145728_20230204T145828_047087_05A61A_1D5D_Orb_NR_Cal_Spk_THR_SHP_EC.tif\"\n",
    "image_path = \"SNAP_Images/1D5D/S1A_EW_GRDM_1SDH_20230204T145728_20230204T145828_047087_05A61A_1D5D_Orb_NR_Cal_Spk_THR_SHP_EC.tif\"\n",
    "# ==========================================================================================="
   ]
  },
  {
   "cell_type": "code",
   "execution_count": 3,
   "metadata": {},
   "outputs": [
    {
     "name": "stdout",
     "output_type": "stream",
     "text": [
      "File exists.\n"
     ]
    }
   ],
   "source": [
    "# Check if file exists\n",
    "import sys\n",
    "\n",
    "def check_file_exists(filepath):\n",
    "    if not os.path.exists(filepath):\n",
    "        print(f'ERROR: The file {filepath} does not exist.')\n",
    "        sys.exit()\n",
    "    else:\n",
    "        print(f'File exists.')\n",
    "\n",
    "check_file_exists(image_path)"
   ]
  },
  {
   "cell_type": "markdown",
   "metadata": {},
   "source": [
    "## 0. Data preprocessing\n",
    "\n",
    "Do not change."
   ]
  },
  {
   "cell_type": "code",
   "execution_count": 4,
   "metadata": {},
   "outputs": [],
   "source": [
    "# Path Maker will save the shapefiles in the selected folder\n",
    "shp_path_maker = ShpPathMaker(\"Generated_Shapefiles\").make_shp_path\n",
    "\n",
    "# Image name will also be used for saving the shapefiles\n",
    "image_name = image_path.split(\".\")[0].split(\"/\")[-1][-37:-26]"
   ]
  },
  {
   "cell_type": "code",
   "execution_count": 5,
   "metadata": {},
   "outputs": [],
   "source": [
    "# Open image and get geotransform.\n",
    "ds = gdal.Open(image_path, gdalconst.GA_ReadOnly)\n",
    "gt = ds.GetGeoTransform()\n",
    "\n",
    "# SNAP output bands description - band 1: HH, band 2: HV, band 3: detected objects with CFAR.\n",
    "# For CNN, Resnet, we need band 1\n",
    "band_number = 1\n",
    "band = ds.GetRasterBand(band_number)\n",
    "image = np.asarray(band.ReadAsArray())\n",
    "image = img_as_ubyte(image)                 # convert to uint8 (8-bit)\n",
    "\n",
    "# For CFAR we need to extract a shapefile from band 3.\n",
    "band_number = 3\n",
    "band = ds.GetRasterBand(band_number)\n",
    "image_cfar = np.asarray(band.ReadAsArray())\n",
    "image_cfar = img_as_ubyte(image_cfar)       # convert to uint8 (8-bit)"
   ]
  },
  {
   "cell_type": "markdown",
   "metadata": {},
   "source": [
    "## 1. CFAR Detection Extraction."
   ]
  },
  {
   "cell_type": "markdown",
   "metadata": {},
   "source": [
    "CFAR used by SNAP for Object Detection.\n",
    "\n",
    "More on CFAR:"
   ]
  },
  {
   "cell_type": "code",
   "execution_count": 6,
   "metadata": {},
   "outputs": [],
   "source": [
    "# Write the detected objects to a .shp file.\n",
    "centroids = contouring(image_cfar)\n",
    "\n",
    "# WARNING: This function will overwrite any existing files with the same name.\n",
    "CFAR_out_filename = f\"{image_name}_CFAR\"\n",
    "save_shapefile(centroids, shp_path_maker(image_name, CFAR_out_filename), gt)"
   ]
  },
  {
   "cell_type": "markdown",
   "metadata": {},
   "source": [
    "## 2. CNN Detection."
   ]
  },
  {
   "cell_type": "code",
   "execution_count": 7,
   "metadata": {},
   "outputs": [
    {
     "name": "stdout",
     "output_type": "stream",
     "text": [
      "output shape: (18140, 18114)\n",
      "number of detected objects:  48022\n"
     ]
    }
   ],
   "source": [
    "from Models.cnn_class import CNN\n",
    "from Models.cnn_predictor import CNNPredictor\n",
    "\n",
    "# Load the model.\n",
    "xsize, ysize = image.shape\n",
    "model = CNN(xsize, ysize)\n",
    "model = torch.load(\"Models/cnn_model.pt\")\n",
    "\n",
    "# Process the image.\n",
    "processor = CNNPredictor(model)\n",
    "cnn_output = processor.process_image(image)\n",
    "print('number of detected objects: ', np.sum(cnn_output))\n",
    "\n",
    "# Get x,y positions of positive predictions\n",
    "centroids = np.where(cnn_output == 1)\n",
    "centroids = np.array(centroids).T\n",
    "\n",
    "# Make into a shapefile and save output\n",
    "CNN_out_filename = f\"{image_name}_CNN\"\n",
    "save_shapefile(centroids, shp_path_maker(image_name, CNN_out_filename), gt)"
   ]
  },
  {
   "cell_type": "markdown",
   "metadata": {},
   "source": [
    "## 3. ResNet Detection"
   ]
  },
  {
   "cell_type": "code",
   "execution_count": 8,
   "metadata": {},
   "outputs": [
    {
     "name": "stderr",
     "output_type": "stream",
     "text": [
      "605it [00:01, 331.58it/s]                         \n",
      "100%|██████████| 11382/11382 [09:14<00:00, 20.52it/s]\n",
      "c:\\Users\\33610\\Cours\\Master 2023 semester 1\\MAST90106 Data Science Project\\IcebergDetection\\.venv\\lib\\site-packages\\sklearn\\metrics\\_classification.py:1344: UndefinedMetricWarning: Recall is ill-defined and being set to 0.0 due to no true samples. Use `zero_division` parameter to control this behavior.\n",
      "  _warn_prf(average, modifier, msg_start, len(result))\n"
     ]
    },
    {
     "name": "stdout",
     "output_type": "stream",
     "text": [
      "testing result: \n",
      "f1:  0.0\n",
      "precision:  0.0\n",
      "recall:  0.0\n",
      "[[364097    115]\n",
      " [     0      0]]\n"
     ]
    },
    {
     "name": "stderr",
     "output_type": "stream",
     "text": [
      "100%|██████████| 364212/364212 [00:00<00:00, 4872094.02it/s]"
     ]
    },
    {
     "name": "stdout",
     "output_type": "stream",
     "text": [
      "number of detected objects:  115\n"
     ]
    },
    {
     "name": "stderr",
     "output_type": "stream",
     "text": [
      "\n"
     ]
    }
   ],
   "source": [
    "from Models.resnet_predictor import ResnetPredictor\n",
    "\n",
    "resnet_predictor = ResnetPredictor(\"Models/resnet_model.pt\")\n",
    "centroids = resnet_predictor.get_centroids(image_path, image_cfar)\n",
    "print('number of detected objects: ', len(centroids))\n",
    "\n",
    "# Make into a shapefile and save output\n",
    "Resnet_out_filename = f\"{image_name}_Resnet\"\n",
    "save_shapefile(centroids, shp_path_maker(image_name, Resnet_out_filename), gt)"
   ]
  },
  {
   "cell_type": "markdown",
   "metadata": {},
   "source": [
    "## 4. Ensemble model"
   ]
  },
  {
   "cell_type": "code",
   "execution_count": 14,
   "metadata": {},
   "outputs": [],
   "source": [
    "from Models.ensemble_predictor import EnsemblePredictor\n",
    "\n",
    "# Get 3 shapefiles created in parts 1 to 3.\n",
    "CFAR_shp_path = shp_path_maker(image_name, CFAR_out_filename)\n",
    "CNN_shp_path = shp_path_maker(image_name, CNN_out_filename)\n",
    "Resnet_shp_path = shp_path_maker(image_name, Resnet_out_filename)\n",
    "output_shp_paths = [CFAR_shp_path, CNN_shp_path, Resnet_shp_path]\n",
    "\n",
    "ensemble_predictor = EnsemblePredictor(gt)\n",
    "votes, votes_coord = ensemble_predictor.get_votes(output_shp_paths)"
   ]
  },
  {
   "cell_type": "code",
   "execution_count": 15,
   "metadata": {},
   "outputs": [
    {
     "data": {
      "image/png": "[encoded data removed]",
      "text/plain": [
       "<Figure size 640x480 with 1 Axes>"
      ]
     },
     "metadata": {},
     "output_type": "display_data"
    }
   ],
   "source": [
    "from Utils.plot_votes import plot_votes\n",
    "\n",
    "plot_votes(votes_coord, image, image_name)"
   ]
  },
  {
   "cell_type": "code",
   "execution_count": 11,
   "metadata": {},
   "outputs": [],
   "source": [
    "# Output the shapefile with 2 votes, and the shapefile with 3 votes\n",
    "for i in range(2, 4):\n",
    "    if i-1 >= len(votes_coord):\n",
    "        continue\n",
    "    votes_i = votes_coord[i-1]\n",
    "    \n",
    "    Ensemble_out_filename = f\"{image_name}_Ensemble_{i}_votes\"\n",
    "    save_shapefile(votes_i, shp_path_maker(image_name, Ensemble_out_filename), gt)"
   ]
  }
 ],
 "metadata": {
  "kernelspec": {
   "display_name": ".venv",
   "language": "python",
   "name": "python3"
  },
  "language_info": {
   "codemirror_mode": {
    "name": "ipython",
    "version": 3
   },
   "file_extension": ".py",
   "mimetype": "text/x-python",
   "name": "python",
   "nbconvert_exporter": "python",
   "pygments_lexer": "ipython3",
   "version": "3.10.0"
  }
 },
 "nbformat": 4,
 "nbformat_minor": 2
}

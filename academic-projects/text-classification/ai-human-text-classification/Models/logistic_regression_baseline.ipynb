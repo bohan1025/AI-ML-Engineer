{
 "cells": [
  {
   "cell_type": "code",
   "execution_count": 2,
   "metadata": {},
   "outputs": [],
   "source": [
    "# Logistic regression baseline model"
   ]
  },
  {
   "cell_type": "code",
<<<<<<< HEAD
   "execution_count": 1,
=======
   "execution_count": 3,
>>>>>>> 959672fe2af93a3cf64c3d808cd5595f1fe5db8e
   "metadata": {},
   "outputs": [],
   "source": [
    "# read the data\n",
    "import json\n",
    "domain1 = []\n",
    "with open('../data/domain1_train.json', 'r') as json_file:\n",
    "    for line in json_file:\n",
    "        try:\n",
    "            json_data = json.loads(line)\n",
    "            domain1.append(json_data)\n",
    "        except json.JSONDecodeError as e:\n",
    "            print(f\"Error parsing JSON: {e}\")\n",
    "domain2 = []\n",
    "with open('../data/domain2_train.json', 'r') as json_file:\n",
    "    for line in json_file:\n",
    "        try:\n",
    "            json_data = json.loads(line)\n",
    "            domain2.append(json_data)\n",
    "        except json.JSONDecodeError as e:\n",
    "            print(f\"Error parsing JSON: {e}\")\n",
    "all_domain = domain1 + domain2"
   ]
  },
  {
   "cell_type": "code",
<<<<<<< HEAD
   "execution_count": 2,
=======
   "execution_count": 4,
>>>>>>> 959672fe2af93a3cf64c3d808cd5595f1fe5db8e
   "metadata": {},
   "outputs": [],
   "source": [
    "from sklearn.feature_extraction.text import CountVectorizer\n",
    "from sklearn.model_selection import train_test_split\n",
    "from sklearn.naive_bayes import MultinomialNB\n",
    "from sklearn.metrics import accuracy_score\n",
    "import numpy as np\n",
    "from sklearn.linear_model import LogisticRegression\n",
    "\n",
    "preprocessed_text = []\n",
    "labels = []\n",
    "for i in range(len(all_domain)):\n",
    "    preprocessed_text.append(all_domain[i]['text'])\n",
    "    labels.append(all_domain[i]['label'])\n",
    "# Assuming you have preprocessed text and labels\n",
    "X = preprocessed_text #这里面是domain的所有数据\n",
    "y = labels #这里是domain里面的所有label \n",
    "# 用test_set.json做测试"
   ]
  },
  {
   "cell_type": "code",
<<<<<<< HEAD
   "execution_count": 4,
   "metadata": {},
   "outputs": [],
   "source": [
    "# transfer into bow\n",
    "data = X #这个是建立词库 建立词库用老数据 如果用不了的话  \n",
    "unique_integers = set()\n",
    "for integer_list in data:\n",
    "    unique_integers.update(integer_list)\n",
    "\n",
    "# 将整数列表转化为一个有序列表\n",
    "vocabulary = sorted(list(unique_integers))\n",
    "\n",
    "\n",
    "# 构建 BOW 表示\n",
    "# 也是1000组\n",
    "bow_data_final = []\n",
    "for integer_list in data: # 找bow用新数据 如果用不了的话 此处改回data，词库还是新数据\n",
    "    bow_vector = [integer_list.count(word) for word in vocabulary]\n",
    "    bow_data_final.append(bow_vector)"
   ]
  },
  {
   "cell_type": "code",
   "execution_count": 5,
   "metadata": {},
   "outputs": [],
   "source": [
    "X = bow_data_final\n"
   ]
  },
  {
   "cell_type": "code",
   "execution_count": 6,
=======
   "execution_count": 5,
>>>>>>> 959672fe2af93a3cf64c3d808cd5595f1fe5db8e
   "metadata": {},
   "outputs": [],
   "source": [
    "# Split the data into training and testing sets\n",
    "X_train, X_test, y_train, y_test = train_test_split(X, y, test_size=0.2, random_state=42)\n"
   ]
  },
  {
   "cell_type": "code",
   "execution_count": 7,
   "metadata": {},
   "outputs": [
    {
     "name": "stderr",
     "output_type": "stream",
     "text": [
      "/opt/homebrew/lib/python3.11/site-packages/sklearn/linear_model/_logistic.py:458: ConvergenceWarning: lbfgs failed to converge (status=1):\n",
      "STOP: TOTAL NO. of ITERATIONS REACHED LIMIT.\n",
      "\n",
      "Increase the number of iterations (max_iter) or scale the data as shown in:\n",
      "    https://scikit-learn.org/stable/modules/preprocessing.html\n",
      "Please also refer to the documentation for alternative solver options:\n",
      "    https://scikit-learn.org/stable/modules/linear_model.html#logistic-regression\n",
      "  n_iter_i = _check_optimize_result(\n"
     ]
    },
    {
     "name": "stdout",
     "output_type": "stream",
     "text": [
      "Accuracy: 0.8585755813953488\n"
     ]
    }
   ],
   "source": [
    "# Initialize and train a classifier (e.g., Naive Bayes)\n",
    "#clf = MultinomialNB()\n",
    "model = LogisticRegression()\n",
    "\n",
    "# 训练模型\n",
    "model.fit(X_train, y_train)\n",
    "#clf.fit(X_train, y_train)\n",
    "\n",
    "# Make predictions\n",
    "# 这里的prediction X_test_bow应该是test_set里面的\n",
    "y_pred = model.predict(X_test)\n",
    "\n",
    "# Evaluate the model\n",
    "# This is the training accuracy\n",
    "accuracy = accuracy_score(y_test, y_pred)\n",
    "print(\"Accuracy:\", accuracy)"
   ]
  },
  {
   "cell_type": "code",
   "execution_count": null,
   "metadata": {},
   "outputs": [],
   "source": [
    "# 现在拿到新数据 转换格式 开始预测"
   ]
  },
  {
   "cell_type": "code",
   "execution_count": 6,
   "metadata": {},
   "outputs": [],
   "source": [
    "# testing on the test dataset\n",
    "test = []\n",
    "with open('../data/test_set.json', 'r') as json_file:\n",
    "    for line in json_file:\n",
    "        try:\n",
    "            json_data = json.loads(line)\n",
    "            test.append(json_data)\n",
    "        except json.JSONDecodeError as e:\n",
    "            print(f\"Error parsing JSON: {e}\")\n",
    "# taking all the data out to get the predictions\n",
    "# 需要做测试的数据有1000组\n",
    "X_train_final = []\n",
    "for i in range(len(test)):\n",
    "    X_train_final.append(test[i]['text'])"
   ]
  },
  {
   "cell_type": "code",
   "execution_count": 13,
   "metadata": {},
   "outputs": [
    {
     "name": "stdout",
     "output_type": "stream",
     "text": [
      "0.503\n"
     ]
    }
   ],
   "source": [
    "# 由于数据维度不一样，测试合集没有这么多，所以建立bow的时候还是用老数据的词库，按照新的数据建立\n",
    "data = preprocessed_text#这个是建立词库 建立词库用老数据 如果用不了的话  \n",
    "unique_integers = set()\n",
    "for integer_list in data:\n",
    "    unique_integers.update(integer_list)\n",
    "\n",
    "# 将整数列表转化为一个有序列表\n",
    "vocabulary = sorted(list(unique_integers))\n",
    "\n",
    "\n",
    "# 构建 BOW 表示\n",
    "# 也是1000组\n",
    "bow_data_final = []\n",
    "for integer_list in X_train_final: # 找bow用新数据 如果用不了的话 此处改回data，词库还是新数据\n",
    "    bow_vector = [integer_list.count(word) for word in vocabulary]\n",
    "    bow_data_final.append(bow_vector)\n",
    "# transfer into np.array formatt\n",
    "bow_data_final = np.array(bow_data_final)\n",
    "\n",
    "# get the predictions\n",
    "y_pred_binary_final = model.predict(bow_data_final)"
   ]
  },
  {
   "cell_type": "code",
   "execution_count": 14,
   "metadata": {},
   "outputs": [],
   "source": [
    "id = []\n",
    "for i in range(0,1000):\n",
    "    id.append(i)\n",
    "\n",
    "answer = []\n",
    "for i in range(0,1000):\n",
    "    answer.append((id[i],y_pred_binary_final[i]))"
   ]
  },
  {
   "cell_type": "code",
   "execution_count": 15,
   "metadata": {},
   "outputs": [
    {
     "name": "stdout",
     "output_type": "stream",
     "text": [
      "Data has been written to logestic_test.csv\n"
     ]
    }
   ],
   "source": [
    "import csv\n",
    "\n",
    "\n",
    "# 指定要写入的文件名\n",
    "file_name = 'logestic_test.csv'\n",
    "column_name = ['id','class']\n",
    "\n",
    "# 打开文件并写入数据\n",
    "with open(file_name, mode='w', newline='') as file:\n",
    "    writer = csv.writer(file)\n",
    "    writer.writerow(column_name)\n",
    "    \n",
    "    # 写入数据行\n",
    "    for row in answer:\n",
    "        writer.writerow(row)\n",
    "\n",
    "\n",
    "print(f'Data has been written to {file_name}')"
   ]
  },
  {
   "cell_type": "code",
   "execution_count": 7,
   "metadata": {},
   "outputs": [
    {
     "name": "stdout",
     "output_type": "stream",
     "text": [
      "MLP Accuracy: 0.7034883720930233\n"
     ]
    }
   ],
   "source": [
    "from sklearn.neural_network import MLPClassifier\n",
    "\n",
    "MLP = MLPClassifier(hidden_layer_sizes=(512,256,128,64),max_iter=200, early_stopping=True, random_state=0, learning_rate='adaptive')\n",
    "\n",
    "MLP.fit(X_train, y_train)\n",
    "\n",
    "MLP_pred = MLP.predict(X_test)\n",
    "\n",
    "MLP_Accuracy = accuracy_score(y_test, MLP_pred)\n",
    "print(\"MLP Accuracy: {}\".format(MLP_Accuracy))"
   ]
  }
 ],
 "metadata": {
  "kernelspec": {
   "display_name": "Python 3",
   "language": "python",
   "name": "python3"
  },
  "language_info": {
   "codemirror_mode": {
    "name": "ipython",
    "version": 3
   },
   "file_extension": ".py",
   "mimetype": "text/x-python",
   "name": "python",
   "nbconvert_exporter": "python",
   "pygments_lexer": "ipython3",
   "version": "3.9.17"
  },
  "orig_nbformat": 4
 },
 "nbformat": 4,
 "nbformat_minor": 2
}

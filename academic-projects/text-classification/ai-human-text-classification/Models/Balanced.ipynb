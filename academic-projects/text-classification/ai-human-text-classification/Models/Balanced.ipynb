{
 "cells": [
  {
   "cell_type": "code",
   "execution_count": 1,
   "metadata": {},
   "outputs": [],
   "source": [
    "import pandas as pd\n",
    "import numpy as np\n",
    "import matplotlib.pyplot as plt\n",
    "from sklearn.neural_network import MLPClassifier\n",
    "from sklearn.model_selection import train_test_split\n",
    "from sklearn.metrics import accuracy_score\n",
    "import random"
   ]
  },
  {
   "cell_type": "code",
   "execution_count": 2,
   "metadata": {},
   "outputs": [],
   "source": [
    "# read the data\n",
    "import json\n",
    "import json\n",
    "domain1 = []\n",
    "with open('../data/domain1_train.json', 'r') as json_file:\n",
    "    for line in json_file:\n",
    "        try:\n",
    "            json_data = json.loads(line)\n",
    "            domain1.append(json_data)\n",
    "        except json.JSONDecodeError as e:\n",
    "            print(f\"Error parsing JSON: {e}\")\n",
    "domain2 = []\n",
    "with open('../data/domain2_train.json', 'r') as json_file:\n",
    "    for line in json_file:\n",
    "        try:\n",
    "            json_data = json.loads(line)\n",
    "            domain2.append(json_data)\n",
    "        except json.JSONDecodeError as e:\n",
    "            print(f\"Error parsing JSON: {e}\")\n",
    "\n",
    "\n",
    "all_domain = domain1 + domain2"
   ]
  },
  {
   "cell_type": "code",
   "execution_count": 3,
   "metadata": {},
   "outputs": [
    {
     "name": "stdout",
     "output_type": "stream",
     "text": [
      "2150\n"
     ]
    }
   ],
   "source": [
    "import random\n",
    "\n",
    "minority_class = []\n",
    "majority_class = []\n",
    "for i in range(len(domain2)):\n",
    "    if domain2[i]['label'] == 1:\n",
    "        minority_class.append(domain2[i])\n",
    "    else:\n",
    "        majority_class.append(domain2[i])\n",
    "\n",
    "# Split data into minority and majority classes\n",
    "\n",
    "# Determine the size of the minority class\n",
    "minority_size = len(minority_class)\n",
    "\n",
    "sampled_majority_class = random.sample(majority_class, minority_size)\n",
    "print(len(sampled_majority_class))\n",
    "\n",
    "all_domain2 = minority_class + sampled_majority_class\n",
    "\n",
    "all_data = domain1 + all_domain2\n",
    "text_list = []\n",
    "label = []\n",
    "\n",
    "for i in range(len(all_data)):\n",
    "    text_list.append(all_data[i]['text'])\n",
    "    label.append(all_data[i]['label'])\n"
   ]
  },
  {
   "cell_type": "code",
   "execution_count": 8,
   "metadata": {},
   "outputs": [
    {
     "name": "stdout",
     "output_type": "stream",
     "text": [
      "4998\n",
      "23800\n"
     ]
    }
   ],
   "source": [
    "from sklearn.feature_extraction.text import CountVectorizer, TfidfTransformer\n",
    "\n",
    "data_sampled = text_list\n",
    "\n",
    "unique_integers = set()\n",
    "for integer_list in text_list:\n",
    "    unique_integers.update(integer_list)\n",
    "\n",
    "vocabulary = sorted(list(unique_integers))\n",
    "\n",
    "print(len(vocabulary))\n",
    "\n",
    "bow_data_sampled = []\n",
    "for integer_list in text_list:\n",
    "    bow_vector = [integer_list.count(word) for word in vocabulary]\n",
    "    bow_data_sampled.append(bow_vector)\n",
    "\n",
    "print(len(bow_data_sampled))"
   ]
  },
  {
   "cell_type": "code",
   "execution_count": 9,
   "metadata": {},
   "outputs": [],
   "source": [
    "X = bow_data_sampled\n",
    "y = label\n",
    "\n",
    "X_train, X_test, y_train, y_test = train_test_split(X, y, test_size=0.2, random_state=42)\n",
    "X_train = np.array(X_train)\n",
    "X_test = np.array(X_test)\n",
    "y_train = np.array(y_train)\n",
    "y_test = np.array(y_test)"
   ]
  },
  {
   "cell_type": "code",
   "execution_count": 10,
   "metadata": {},
   "outputs": [
    {
     "name": "stdout",
     "output_type": "stream",
     "text": [
      "MLP Accuracy: 0.8813025210084033\n"
     ]
    }
   ],
   "source": [
    "from sklearn.neural_network import MLPClassifier\n",
    "\n",
    "MLP = MLPClassifier(hidden_layer_sizes=(256,256,128,64),max_iter=200, early_stopping=True, random_state=0, learning_rate='adaptive')\n",
    "\n",
    "MLP.fit(X_train, y_train)\n",
    "\n",
    "MLP_pred = MLP.predict(X_test)\n",
    "\n",
    "MLP_Accuracy = accuracy_score(y_test, MLP_pred)\n",
    "print(\"MLP Accuracy: {}\".format(MLP_Accuracy))"
   ]
  },
  {
   "cell_type": "code",
   "execution_count": 11,
   "metadata": {},
   "outputs": [],
   "source": [
    "# testing on the test dataset\n",
    "test = []\n",
    "with open('../data/test_set.json', 'r') as json_file:\n",
    "    for line in json_file:\n",
    "        try:\n",
    "            json_data = json.loads(line)\n",
    "            test.append(json_data)\n",
    "        except json.JSONDecodeError as e:\n",
    "            print(f\"Error parsing JSON: {e}\")\n",
    "# taking all the data out to get the predictions\n",
    "# 需要做测试的数据有1000组\n",
    "X_train_final = []\n",
    "for i in range(len(test)):\n",
    "    X_train_final.append(test[i]['text'])"
   ]
  },
  {
   "cell_type": "code",
   "execution_count": 12,
   "metadata": {},
   "outputs": [],
   "source": [
    "data = text_list\n",
    "unique_integers = set()\n",
    "for integer_list in data:\n",
    "    unique_integers.update(integer_list)\n",
    "\n",
    "# 将整数列表转化为一个有序列表\n",
    "vocabulary = sorted(list(unique_integers))\n",
    "\n",
    "\n",
    "# 构建 BOW 表示\n",
    "# 也是1000组\n",
    "bow_data_final = []\n",
    "for integer_list in X_train_final: # 找bow用新数据 如果用不了的话 此处改回data，词库还是新数据\n",
    "    bow_vector = [integer_list.count(word) for word in vocabulary]\n",
    "    bow_data_final.append(bow_vector)"
   ]
  },
  {
   "cell_type": "code",
   "execution_count": 13,
   "metadata": {},
   "outputs": [
    {
     "name": "stdout",
     "output_type": "stream",
     "text": [
      "1000\n",
      "Data has been written to output.csv\n"
     ]
    }
   ],
   "source": [
    "prediction = MLP.predict(bow_data_final)\n",
    "print(len(prediction))\n",
    "\n",
    "id = []\n",
    "for i in range(0,1000):\n",
    "    id.append(i)\n",
    "\n",
    "answer = []\n",
    "for i in range(0,1000):\n",
    "    answer.append((id[i],prediction[i]))\n",
    "\n",
    "import csv\n",
    "\n",
    "\n",
    "# 指定要写入的文件名\n",
    "file_name = 'output.csv'\n",
    "column_name = ['id','class']\n",
    "\n",
    "# 打开文件并写入数据\n",
    "with open(file_name, mode='w', newline='') as file:\n",
    "    writer = csv.writer(file)\n",
    "    writer.writerow(column_name)\n",
    "    \n",
    "    # 写入数据行\n",
    "    for row in answer:\n",
    "        writer.writerow(row)\n",
    "\n",
    "\n",
    "print(f'Data has been written to {file_name}')"
   ]
  }
 ],
 "metadata": {
  "kernelspec": {
   "display_name": "CV",
   "language": "python",
   "name": "python3"
  },
  "language_info": {
   "codemirror_mode": {
    "name": "ipython",
    "version": 3
   },
   "file_extension": ".py",
   "mimetype": "text/x-python",
   "name": "python",
   "nbconvert_exporter": "python",
   "pygments_lexer": "ipython3",
   "version": "3.9.17"
  },
  "orig_nbformat": 4
 },
 "nbformat": 4,
 "nbformat_minor": 2
}

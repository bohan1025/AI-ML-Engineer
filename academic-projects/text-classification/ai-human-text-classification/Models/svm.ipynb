{
 "cells": [
  {
   "cell_type": "code",
   "execution_count": 17,
   "metadata": {},
   "outputs": [],
   "source": [
    "import pandas as pd\n",
    "import matplotlib.pyplot as plt\n",
    "import seaborn as sns\n",
    "import math\n",
    "import numpy as np\n",
    "from sklearn.preprocessing import StandardScaler\n",
    "from sklearn.decomposition import PCA\n",
    "from sklearn.metrics import f1_score, accuracy_score, classification_report\n",
    "from collections import Counter\n",
    "from sklearn.feature_extraction.text import CountVectorizer, TfidfTransformer\n",
    "from sklearn.svm import SVC\n",
    "from sklearn.model_selection import train_test_split, GridSearchCV\n",
    "\n",
    "\n",
    "scaler = StandardScaler()\n",
    "def read_json_to_dataframe(file_path):\n",
    "    return pd.read_json(file_path, lines=True)\n",
    "\n",
    "# read files\n",
    "set1 = read_json_to_dataframe('../data/domain1_train.json')\n",
    "set2 = read_json_to_dataframe('../data/domain2_train.json')\n",
    "predict_x = read_json_to_dataframe('../data/test_set.json')"
   ]
  },
  {
   "cell_type": "code",
   "execution_count": 2,
   "metadata": {},
   "outputs": [],
   "source": [
    "X1 = set2[\"text\"].apply(lambda x: ' '.join(map(str, x)))\n",
    "y1 = set2[\"label\"]\n",
    "\n",
    "# Split data into minority and majority classes, less human than machine in set2\n",
    "minority_class = X1[y1 == 1]  \n",
    "majority_class = X1[y1 == 0]  \n",
    "\n",
    "# Determine the size of the minority class\n",
    "minority_size = len(minority_class)\n",
    "\n",
    "# Randomly select a subset of the majority class to match the size of the minority class\n",
    "majority_sampled = majority_class.sample(n=minority_size, random_state=42)\n",
    "\n",
    "# Combine the minority and majority sampled data\n",
    "X_balanced = pd.concat([minority_class, majority_sampled])\n",
    "y_balanced = pd.Series([1] * minority_size + [0] * minority_size)\n"
   ]
  },
  {
   "cell_type": "code",
   "execution_count": 3,
   "metadata": {},
   "outputs": [],
   "source": [
    "# Create a function to calculate text entropy from tokenized sequences\n",
    "def text_entropy(tokens):\n",
    "    if len(tokens) == 0:\n",
    "        return 0.0\n",
    "    else:\n",
    "        prob = [float(tokens.count(token)) / len(tokens) for token in set(tokens)]\n",
    "        entropy = -sum([p * math.log(p) / math.log(2.0) for p in prob])\n",
    "        return entropy\n",
    "\n",
    "X = set1[\"text\"].apply(lambda x: ' '.join(map(str, x)))  # Convert lists to space-separated strings\n",
    "y = set1[\"label\"]\n",
    "\n",
    "\n",
    "# concate two set of data\n",
    "X_2 = pd.concat([X_balanced, X])\n",
    "y_2 = pd.concat([y_balanced, y])\n"
   ]
  },
  {
   "cell_type": "code",
   "execution_count": 4,
   "metadata": {},
   "outputs": [],
   "source": [
    "# Extract unigram features\n",
    "vectorizer = CountVectorizer(ngram_range=(1, 1))\n",
    "X_bow = vectorizer.fit_transform(X_2)\n",
    "\n",
    "# TF-IDF transformation\n",
    "tfidf_transformer = TfidfTransformer()\n",
    "X_tfidf = tfidf_transformer.fit_transform(X_bow)\n",
    "\n",
    "# Calculate text length and text entropy as features\n",
    "text_length = np.array([len(text.split()) for text in X_2])\n",
    "\n",
    "text_entropy = np.array([text_entropy(text.split()) for text in X_2])\n",
    "\n",
    "X_combined = np.column_stack((text_length, text_entropy, X_tfidf.toarray()))\n",
    "X_scaled = scaler.fit_transform(X_combined)\n",
    "\n",
    "n_components = 1000  # Specify the number of components\n",
    "pca = PCA(n_components=n_components)\n",
    "X_pca = pca.fit_transform(X_scaled)"
   ]
  },
  {
   "cell_type": "code",
   "execution_count": null,
   "metadata": {},
   "outputs": [
    {
     "name": "stdout",
     "output_type": "stream",
     "text": [
      "0.1 rbf 0.832663422889782\n",
      "0.2 rbf 0.8395237755756755\n",
      "0.3 rbf 0.8436039404616381\n",
      "0.4 rbf 0.8450561390800434\n",
      "Best Model (based on highest F1-score):\n",
      "F1-score: 0.8450561390800434\n",
      "Accuracy: 0.8202521008403362\n",
      "Classification Report:\n",
      "               precision    recall  f1-score   support\n",
      "\n",
      "           0       0.97      0.66      0.79      5938\n",
      "           1       0.74      0.98      0.85      5962\n",
      "\n",
      "    accuracy                           0.82     11900\n",
      "   macro avg       0.86      0.82      0.82     11900\n",
      "weighted avg       0.86      0.82      0.82     11900\n",
      "\n"
     ]
    }
   ],
   "source": [
    "# increase size of test as training takes too long, find the near best c first, then try to find better c value\n",
    "X_train, X_test, y_train, y_test = train_test_split(X_pca, y_2, test_size=0.5, random_state=42)\n",
    "# Build an SVM model\n",
    "svm_classifier = SVC()\n",
    "\n",
    "# Define the parameter grid for GridSearch\n",
    "f1_scores = []\n",
    "\n",
    "for C_value in [0.1, 0.2, 0.3, 0.4]:\n",
    "    for kernel_value in ['rbf']:\n",
    "        svm_model = SVC(C=C_value, kernel=kernel_value)\n",
    "        svm_model.fit(X_train, y_train)\n",
    "        y_pred = svm_model.predict(X_test)\n",
    "        f1 = f1_score(y_test, y_pred)\n",
    "        f1_scores.append((C_value, kernel_value, f1))\n",
    "        print(C_value, kernel_value, f1)\n",
    "\n",
    "# Choose the model with the highest F1-score\n",
    "best_C, best_kernel, best_f1 = max(f1_scores, key=lambda x: x[2])\n",
    "\n",
    "print(\"Best Model (based on highest F1-score):\")\n",
    "print(\"F1-score:\", best_f1)\n",
    "\n",
    "# Train the model with the best hyperparameters\n",
    "# Evaluate the model\n",
    "y_pred = svm_model.predict(X_test)\n",
    "accuracy = accuracy_score(y_test, y_pred)\n",
    "report = classification_report(y_test, y_pred)\n",
    "\n",
    "\n",
    "# show the final accuracy of the model on test data\n",
    "print(\"Accuracy:\", accuracy)\n",
    "print(\"Classification Report:\\n\", report)"
   ]
  },
  {
   "cell_type": "code",
   "execution_count": 5,
   "metadata": {},
   "outputs": [],
   "source": [
    "# Split data into train and test sets, for tfidf features\n",
    "X_train, X_test, y_train, y_test = train_test_split(X_scaled, y_2, test_size=0.5, random_state=42)"
   ]
  },
  {
   "cell_type": "code",
   "execution_count": 16,
   "metadata": {},
   "outputs": [
    {
     "name": "stdout",
     "output_type": "stream",
     "text": [
      "0.1 rbf 0.8019068573524019\n",
      "0.2 rbf 0.8323674608285039\n",
      "0.3 rbf 0.8391768839176884\n",
      "0.4 rbf 0.8428334654464221\n",
      "Best Model (based on highest F1-score):\n",
      "F1-score: 0.8428334654464221\n",
      "Accuracy: 0.8167226890756303\n",
      "Classification Report:\n",
      "               precision    recall  f1-score   support\n",
      "\n",
      "           0       0.97      0.65      0.78      5938\n",
      "           1       0.74      0.98      0.84      5962\n",
      "\n",
      "    accuracy                           0.82     11900\n",
      "   macro avg       0.86      0.82      0.81     11900\n",
      "weighted avg       0.85      0.82      0.81     11900\n",
      "\n"
     ]
    }
   ],
   "source": [
    "# Build an SVM model\n",
    "svm_classifier = SVC()\n",
    "\n",
    "# Define the parameter grid for GridSearch\n",
    "f1_scores = []\n",
    "\n",
    "for C_value in [0.1, 0.2, 0.3, 0.4]:\n",
    "    for kernel_value in ['rbf']:\n",
    "        svm_model = SVC(C=C_value, kernel=kernel_value)\n",
    "        svm_model.fit(X_train, y_train)\n",
    "        y_pred = svm_model.predict(X_test)\n",
    "        f1 = f1_score(y_test, y_pred)\n",
    "        f1_scores.append((C_value, kernel_value, f1))\n",
    "        print(C_value, kernel_value, f1)\n",
    "\n",
    "# Choose the model with the highest F1-score\n",
    "best_C, best_kernel, best_f1 = max(f1_scores, key=lambda x: x[2])\n",
    "\n",
    "print(\"Best Model (based on highest F1-score):\")\n",
    "print(\"F1-score:\", best_f1)\n",
    "\n",
    "\n",
    "\n",
    "# Train the model with the best hyperparameters\n",
    "# Evaluate the model\n",
    "y_pred = svm_model.predict(X_test)\n",
    "accuracy = accuracy_score(y_test, y_pred)\n",
    "report = classification_report(y_test, y_pred)\n",
    "\n",
    "\n",
    "# show the final accuracy of the model on unseen data\n",
    "print(\"Accuracy:\", accuracy)\n",
    "print(\"Classification Report:\\n\", report)"
   ]
  },
  {
   "cell_type": "code",
   "execution_count": 7,
   "metadata": {},
   "outputs": [
    {
     "name": "stdout",
     "output_type": "stream",
     "text": [
      "Accuracy: 0.8167226890756303\n",
      "Classification Report:\n",
      "               precision    recall  f1-score   support\n",
      "\n",
      "           0       0.97      0.65      0.78      5938\n",
      "           1       0.74      0.98      0.84      5962\n",
      "\n",
      "    accuracy                           0.82     11900\n",
      "   macro avg       0.86      0.82      0.81     11900\n",
      "weighted avg       0.85      0.82      0.81     11900\n",
      "\n"
     ]
    }
   ],
   "source": [
    "# Train the model with the best hyperparameters\n",
    "# Evaluate the model\n",
    "\n",
    "svm_model = SVC(C=0.4, kernel='rbf')\n",
    "svm_model.fit(X_train, y_train)\n",
    "y_pred = svm_model.predict(X_test)\n",
    "accuracy = accuracy_score(y_test, y_pred)\n",
    "report = classification_report(y_test, y_pred)\n",
    "\n",
    "# show the final accuracy of the model on unseen data\n",
    "print(\"Accuracy:\", accuracy)\n",
    "print(\"Classification Report:\\n\", report)"
   ]
  },
  {
   "cell_type": "code",
   "execution_count": 8,
   "metadata": {},
   "outputs": [
    {
     "name": "stdout",
     "output_type": "stream",
     "text": [
      "0.367 rbf 0.8410986482599943\n",
      "0.368 rbf 0.8410986482599943\n",
      "0.369 rbf 0.8410986482599943\n",
      "Best Model (based on highest F1-score):\n",
      "C: 0.367\n",
      "Kernel: rbf\n",
      "F1-score: 0.8410986482599943\n"
     ]
    }
   ],
   "source": [
    "# Build an SVM model\n",
    "svm_classifier = SVC()\n",
    "\n",
    "# Define the parameter grid for GridSearch\n",
    "f1_scores = []\n",
    "\n",
    "for C_value in [0.367,0.368,0.369]:\n",
    "    for kernel_value in ['rbf']:\n",
    "        svm_model = SVC(C=C_value, kernel=kernel_value)\n",
    "        svm_model.fit(X_train, y_train)\n",
    "        y_pred = svm_model.predict(X_test)\n",
    "        f1 = f1_score(y_test, y_pred)\n",
    "        f1_scores.append((C_value, kernel_value, f1))\n",
    "        print(C_value, kernel_value, f1)\n",
    "\n",
    "# Choose the model with the highest F1-score\n",
    "best_C, best_kernel, best_f1 = max(f1_scores, key=lambda x: x[2])\n",
    "\n",
    "print(\"Best Model (based on highest F1-score):\")\n",
    "print(\"C:\", best_C)\n",
    "print(\"Kernel:\", best_kernel)\n",
    "print(\"F1-score:\", best_f1)"
   ]
  },
  {
   "cell_type": "code",
   "execution_count": 10,
   "metadata": {},
   "outputs": [
    {
     "name": "stdout",
     "output_type": "stream",
     "text": [
      "0.37 rbf 0.8410381767201092\n",
      "0.375 rbf 0.8413406214039125\n",
      "0.38 rbf 0.8413783181066109\n",
      "Best Model (based on highest F1-score):\n",
      "C: 0.38\n",
      "Kernel: rbf\n",
      "F1-score: 0.8413783181066109\n"
     ]
    }
   ],
   "source": [
    "# Build an SVM model\n",
    "svm_classifier = SVC()\n",
    "\n",
    "# Define the parameter grid for GridSearch\n",
    "f1_scores = []\n",
    "\n",
    "for C_value in [0.37,0.375,0.38]:\n",
    "    for kernel_value in ['rbf']:\n",
    "        svm_model = SVC(C=C_value, kernel=kernel_value)\n",
    "        svm_model.fit(X_train, y_train)\n",
    "        y_pred = svm_model.predict(X_test)\n",
    "        f1 = f1_score(y_test, y_pred)\n",
    "        f1_scores.append((C_value, kernel_value, f1))\n",
    "        print(C_value, kernel_value, f1)\n",
    "\n",
    "# Choose the model with the highest F1-score\n",
    "best_C, best_kernel, best_f1 = max(f1_scores, key=lambda x: x[2])\n",
    "\n",
    "print(\"Best Model (based on highest F1-score):\")\n",
    "print(\"C:\", best_C)\n",
    "print(\"Kernel:\", best_kernel)\n",
    "print(\"F1-score:\", best_f1)"
   ]
  },
  {
   "cell_type": "code",
   "execution_count": 9,
   "metadata": {},
   "outputs": [
    {
     "name": "stdout",
     "output_type": "stream",
     "text": [
      "Accuracy: 0.8147058823529412\n",
      "Classification Report:\n",
      "               precision    recall  f1-score   support\n",
      "\n",
      "           0       0.97      0.65      0.78      5938\n",
      "           1       0.74      0.98      0.84      5962\n",
      "\n",
      "    accuracy                           0.81     11900\n",
      "   macro avg       0.85      0.81      0.81     11900\n",
      "weighted avg       0.85      0.81      0.81     11900\n",
      "\n"
     ]
    }
   ],
   "source": [
    "# Train the model with the best hyperparameters\n",
    "# Evaluate the model\n",
    "svm_model = SVC(C=0.38, kernel='rbf')\n",
    "svm_model.fit(X_train, y_train)\n",
    "y_pred = svm_model.predict(X_test)\n",
    "accuracy = accuracy_score(y_test, y_pred)\n",
    "report = classification_report(y_test, y_pred)\n",
    "\n",
    "\n",
    "# show the final accuracy of the model on test data\n",
    "print(\"Accuracy:\", accuracy)\n",
    "print(\"Classification Report:\\n\", report)"
   ]
  },
  {
   "cell_type": "code",
   "execution_count": 11,
   "metadata": {},
   "outputs": [
    {
     "data": {
      "text/html": [
       "<style>#sk-container-id-1 {color: black;}#sk-container-id-1 pre{padding: 0;}#sk-container-id-1 div.sk-toggleable {background-color: white;}#sk-container-id-1 label.sk-toggleable__label {cursor: pointer;display: block;width: 100%;margin-bottom: 0;padding: 0.3em;box-sizing: border-box;text-align: center;}#sk-container-id-1 label.sk-toggleable__label-arrow:before {content: \"▸\";float: left;margin-right: 0.25em;color: #696969;}#sk-container-id-1 label.sk-toggleable__label-arrow:hover:before {color: black;}#sk-container-id-1 div.sk-estimator:hover label.sk-toggleable__label-arrow:before {color: black;}#sk-container-id-1 div.sk-toggleable__content {max-height: 0;max-width: 0;overflow: hidden;text-align: left;background-color: #f0f8ff;}#sk-container-id-1 div.sk-toggleable__content pre {margin: 0.2em;color: black;border-radius: 0.25em;background-color: #f0f8ff;}#sk-container-id-1 input.sk-toggleable__control:checked~div.sk-toggleable__content {max-height: 200px;max-width: 100%;overflow: auto;}#sk-container-id-1 input.sk-toggleable__control:checked~label.sk-toggleable__label-arrow:before {content: \"▾\";}#sk-container-id-1 div.sk-estimator input.sk-toggleable__control:checked~label.sk-toggleable__label {background-color: #d4ebff;}#sk-container-id-1 div.sk-label input.sk-toggleable__control:checked~label.sk-toggleable__label {background-color: #d4ebff;}#sk-container-id-1 input.sk-hidden--visually {border: 0;clip: rect(1px 1px 1px 1px);clip: rect(1px, 1px, 1px, 1px);height: 1px;margin: -1px;overflow: hidden;padding: 0;position: absolute;width: 1px;}#sk-container-id-1 div.sk-estimator {font-family: monospace;background-color: #f0f8ff;border: 1px dotted black;border-radius: 0.25em;box-sizing: border-box;margin-bottom: 0.5em;}#sk-container-id-1 div.sk-estimator:hover {background-color: #d4ebff;}#sk-container-id-1 div.sk-parallel-item::after {content: \"\";width: 100%;border-bottom: 1px solid gray;flex-grow: 1;}#sk-container-id-1 div.sk-label:hover label.sk-toggleable__label {background-color: #d4ebff;}#sk-container-id-1 div.sk-serial::before {content: \"\";position: absolute;border-left: 1px solid gray;box-sizing: border-box;top: 0;bottom: 0;left: 50%;z-index: 0;}#sk-container-id-1 div.sk-serial {display: flex;flex-direction: column;align-items: center;background-color: white;padding-right: 0.2em;padding-left: 0.2em;position: relative;}#sk-container-id-1 div.sk-item {position: relative;z-index: 1;}#sk-container-id-1 div.sk-parallel {display: flex;align-items: stretch;justify-content: center;background-color: white;position: relative;}#sk-container-id-1 div.sk-item::before, #sk-container-id-1 div.sk-parallel-item::before {content: \"\";position: absolute;border-left: 1px solid gray;box-sizing: border-box;top: 0;bottom: 0;left: 50%;z-index: -1;}#sk-container-id-1 div.sk-parallel-item {display: flex;flex-direction: column;z-index: 1;position: relative;background-color: white;}#sk-container-id-1 div.sk-parallel-item:first-child::after {align-self: flex-end;width: 50%;}#sk-container-id-1 div.sk-parallel-item:last-child::after {align-self: flex-start;width: 50%;}#sk-container-id-1 div.sk-parallel-item:only-child::after {width: 0;}#sk-container-id-1 div.sk-dashed-wrapped {border: 1px dashed gray;margin: 0 0.4em 0.5em 0.4em;box-sizing: border-box;padding-bottom: 0.4em;background-color: white;}#sk-container-id-1 div.sk-label label {font-family: monospace;font-weight: bold;display: inline-block;line-height: 1.2em;}#sk-container-id-1 div.sk-label-container {text-align: center;}#sk-container-id-1 div.sk-container {/* jupyter's `normalize.less` sets `[hidden] { display: none; }` but bootstrap.min.css set `[hidden] { display: none !important; }` so we also need the `!important` here to be able to override the default hidden behavior on the sphinx rendered scikit-learn.org. See: https://github.com/scikit-learn/scikit-learn/issues/21755 */display: inline-block !important;position: relative;}#sk-container-id-1 div.sk-text-repr-fallback {display: none;}</style><div id=\"sk-container-id-1\" class=\"sk-top-container\"><div class=\"sk-text-repr-fallback\"><pre>SVC(C=0.38)</pre><b>In a Jupyter environment, please rerun this cell to show the HTML representation or trust the notebook. <br />On GitHub, the HTML representation is unable to render, please try loading this page with nbviewer.org.</b></div><div class=\"sk-container\" hidden><div class=\"sk-item\"><div class=\"sk-estimator sk-toggleable\"><input class=\"sk-toggleable__control sk-hidden--visually\" id=\"sk-estimator-id-1\" type=\"checkbox\" checked><label for=\"sk-estimator-id-1\" class=\"sk-toggleable__label sk-toggleable__label-arrow\">SVC</label><div class=\"sk-toggleable__content\"><pre>SVC(C=0.38)</pre></div></div></div></div></div>"
      ],
      "text/plain": [
       "SVC(C=0.38)"
      ]
     },
     "execution_count": 11,
     "metadata": {},
     "output_type": "execute_result"
    }
   ],
   "source": [
    "# Train the final svm model using best c value of 0.38\n",
    "best_svm_classifier = SVC(C=0.38, kernel=\"rbf\")\n",
    "best_svm_classifier.fit(X_scaled, y_2)"
   ]
  },
  {
   "cell_type": "code",
   "execution_count": 13,
   "metadata": {},
   "outputs": [],
   "source": [
    "def text_entropy(tokens):\n",
    "    if len(tokens) == 0:\n",
    "        return 0.0\n",
    "    else:\n",
    "        prob = [float(tokens.count(token)) / len(tokens) for token in set(tokens)]\n",
    "        entropy = -sum([p * math.log(p) / math.log(2.0) for p in prob])\n",
    "        return entropy\n",
    "x_predict_transformed = predict_x['text'].apply(lambda x: ' '.join(map(str, x)))\n",
    "x_predict_transformed = pd.concat([x_predict_transformed])\n",
    "x_predict_transformed\n",
    "# Extract unigram features\n",
    "X_predict_bow = vectorizer.transform(x_predict_transformed)\n",
    "\n",
    "# TF-IDF transformation\n",
    "X_predict_tfidf = tfidf_transformer.transform(X_predict_bow)\n",
    "\n",
    "# Calculate text length and text entropy as features\n",
    "text_length = np.array([len(text.split()) for text in x_predict_transformed])\n",
    "\n",
    "text_entropy = np.array([text_entropy(text.split()) for text in x_predict_transformed])\n",
    "\n",
    "X_combined = np.column_stack((text_length, text_entropy, X_predict_tfidf.toarray()))\n",
    "X_scaled_test = scaler.fit_transform(X_combined)"
   ]
  },
  {
   "cell_type": "code",
   "execution_count": 14,
   "metadata": {},
   "outputs": [],
   "source": [
    "prediction = best_svm_classifier.predict(X_scaled_test)"
   ]
  },
  {
   "cell_type": "code",
   "execution_count": 15,
   "metadata": {},
   "outputs": [],
   "source": [
    "pred = {'id': predict_x['id'], \n",
    "        'class': prediction} \n",
    "\n",
    "# Create a new DataFrame, save the predictions\n",
    "pred_df = pd.DataFrame(pred)\n",
    "pred_df.to_csv('svm_test_0.38.csv', index=False)"
   ]
  },
  {
   "cell_type": "code",
   "execution_count": 16,
   "metadata": {},
   "outputs": [
    {
     "data": {
      "text/plain": [
       "1    653\n",
       "0    347\n",
       "Name: class, dtype: int64"
      ]
     },
     "execution_count": 16,
     "metadata": {},
     "output_type": "execute_result"
    }
   ],
   "source": [
    "# inspect results of predictions\n",
    "pred_df[\"class\"].value_counts()"
   ]
  }
 ],
 "metadata": {
  "kernelspec": {
   "display_name": "Python 3 (ipykernel)",
   "language": "python",
   "name": "python3"
  },
  "language_info": {
   "codemirror_mode": {
    "name": "ipython",
    "version": 3
   },
   "file_extension": ".py",
   "mimetype": "text/x-python",
   "name": "python",
   "nbconvert_exporter": "python",
   "pygments_lexer": "ipython3",
   "version": "3.9.2"
  }
 },
 "nbformat": 4,
 "nbformat_minor": 4
}

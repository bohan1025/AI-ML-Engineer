{
 "cells": [
  {
   "cell_type": "code",
   "execution_count": 4,
   "metadata": {},
   "outputs": [],
   "source": [
    "import pandas as pd\n",
    "import numpy as np\n",
    "import matplotlib.pyplot as plt\n",
    "from sklearn.neural_network import MLPClassifier\n",
    "from sklearn.model_selection import train_test_split\n",
    "from sklearn.metrics import accuracy_score, f1_score\n",
    "import random"
   ]
  },
  {
   "cell_type": "code",
   "execution_count": 2,
   "metadata": {},
   "outputs": [],
   "source": [
    "# read the data\n",
    "import json\n",
    "import json\n",
    "domain1 = []\n",
    "with open('../data/domain1_train.json', 'r') as json_file:\n",
    "    for line in json_file:\n",
    "        try:\n",
    "            json_data = json.loads(line)\n",
    "            domain1.append(json_data)\n",
    "        except json.JSONDecodeError as e:\n",
    "            print(f\"Error parsing JSON: {e}\")\n",
    "domain2 = []\n",
    "with open('../data/domain2_train.json', 'r') as json_file:\n",
    "    for line in json_file:\n",
    "        try:\n",
    "            json_data = json.loads(line)\n",
    "            domain2.append(json_data)\n",
    "        except json.JSONDecodeError as e:\n",
    "            print(f\"Error parsing JSON: {e}\")\n",
    "\n",
    "\n",
    "all_domain = domain1 + domain2"
   ]
  },
  {
   "cell_type": "code",
   "execution_count": 3,
   "metadata": {},
   "outputs": [
    {
     "name": "stdout",
     "output_type": "stream",
     "text": [
      "5000\n"
     ]
    }
   ],
   "source": [
    "old_text = []\n",
    "labels = []\n",
    "for i in range(len(all_domain)):\n",
    "    old_text.append(all_domain[i]['text'])\n",
    "    labels.append(all_domain[i]['label'])\n",
    "\n",
    "data = old_text\n",
    "#use bow as baseline approach\n",
    "unique_integers = set()\n",
    "for integer_list in data:\n",
    "    unique_integers.update(integer_list)\n",
    "\n",
    "vocabulary = sorted(list(unique_integers))\n",
    "\n",
    "print(len(vocabulary))\n",
    "\n",
    "bow_data = []\n",
    "for integer_list in data:\n",
    "    bow_vector = [integer_list.count(word) for word in vocabulary]\n",
    "    bow_data.append(bow_vector)\n",
    "\n",
    "X = bow_data \n",
    "y = labels\n",
    "\n",
    "X_train, X_test, y_train, y_test = train_test_split(X, y, test_size=0.2, random_state=42)\n",
    "X_train = np.array(X_train)\n",
    "X_test = np.array(X_test)\n",
    "y_train = np.array(y_train)\n",
    "y_test = np.array(y_test)"
   ]
  },
  {
   "cell_type": "code",
   "execution_count": 5,
   "metadata": {},
   "outputs": [
    {
     "name": "stdout",
     "output_type": "stream",
     "text": [
      "MLP Accuracy: 0.9031976744186047\n",
      "MLP F1 Score: 0.9015488466716863\n"
     ]
    }
   ],
   "source": [
    "from sklearn.neural_network import MLPClassifier\n",
    "\n",
    "# Create and train MLPClassifier\n",
    "MLP = MLPClassifier(hidden_layer_sizes=(256, 256, 128, 64), max_iter=200, early_stopping=True, random_state=0, learning_rate='adaptive')\n",
    "MLP.fit(X_train, y_train)\n",
    "\n",
    "# Make predictions\n",
    "MLP_pred = MLP.predict(X_test)\n",
    "\n",
    "# Calculate accuracy and F1 score\n",
    "MLP_Accuracy = accuracy_score(y_test, MLP_pred)\n",
    "MLP_F1_Score = f1_score(y_test, MLP_pred, average='weighted')\n",
    "\n",
    "print(\"MLP Accuracy: {}\".format(MLP_Accuracy))\n",
    "print(\"MLP F1 Score: {}\".format(MLP_F1_Score))"
   ]
  },
  {
   "cell_type": "code",
   "execution_count": 3,
   "metadata": {},
   "outputs": [],
   "source": [
    "# testing on the test dataset\n",
    "test = []\n",
    "with open('../data/test_set.json', 'r') as json_file:\n",
    "    for line in json_file:\n",
    "        try:\n",
    "            json_data = json.loads(line)\n",
    "            test.append(json_data)\n",
    "        except json.JSONDecodeError as e:\n",
    "            print(f\"Error parsing JSON: {e}\")\n",
    "# taking all the data out to get the predictions\n",
    "\n",
    "X_train_final = []\n",
    "for i in range(len(test)):\n",
    "    X_train_final.append(test[i]['text'])"
   ]
  },
  {
   "cell_type": "code",
   "execution_count": 8,
   "metadata": {},
   "outputs": [],
   "source": [
    "# transfer the data into bow formatting\n",
    "# The number of features in data (4538) is not the same as it was in training data (5000).\n",
    "# You can set ``predict_disable_shape_check=true`` to discard this error, but please be aware what you are doing.\n",
    "# data = old_text\n",
    "data = old_text\n",
    "unique_integers = set()\n",
    "\n",
    "for integer_list in data:\n",
    "    unique_integers.update(integer_list)\n",
    "\n",
    "\n",
    "vocabulary = sorted(list(unique_integers))\n",
    "\n",
    "bow_data_final = []\n",
    "for integer_list in X_train_final: \n",
    "    bow_vector = [integer_list.count(word) for word in vocabulary]\n",
    "    bow_data_final.append(bow_vector)"
   ]
  },
  {
   "cell_type": "code",
   "execution_count": 41,
   "metadata": {},
   "outputs": [
    {
     "name": "stdout",
     "output_type": "stream",
     "text": [
      "1000\n",
      "Data has been written to output.csv\n"
     ]
    }
   ],
   "source": [
    "prediction = MLP.predict(bow_data_final)\n",
    "print(len(prediction))\n",
    "\n",
    "id = []\n",
    "for i in range(0,1000):\n",
    "    id.append(i)\n",
    "\n",
    "answer = []\n",
    "for i in range(0,1000):\n",
    "    answer.append((id[i],prediction[i]))\n",
    "\n",
    "import csv\n",
    "\n",
    "\n",
    "\n",
    "file_name = 'output.csv'\n",
    "column_name = ['id','class']\n",
    "\n",
    "\n",
    "with open(file_name, mode='w', newline='') as file:\n",
    "    writer = csv.writer(file)\n",
    "    writer.writerow(column_name)\n",
    "\n",
    "    for row in answer:\n",
    "        writer.writerow(row)\n",
    "\n",
    "\n",
    "print(f'Data has been written to {file_name}')"
   ]
  },
  {
   "cell_type": "code",
   "execution_count": 10,
   "metadata": {},
   "outputs": [
    {
     "name": "stdout",
     "output_type": "stream",
     "text": [
      "Epoch 1/5\n",
      "860/860 [==============================] - 409s 475ms/step - loss: 0.3830 - accuracy: 0.8604 - val_loss: 0.2698 - val_accuracy: 0.9016\n",
      "Epoch 2/5\n",
      "860/860 [==============================] - 444s 517ms/step - loss: 0.2241 - accuracy: 0.9145 - val_loss: 0.2803 - val_accuracy: 0.8984\n",
      "Epoch 3/5\n",
      "860/860 [==============================] - 436s 508ms/step - loss: 0.1537 - accuracy: 0.9422 - val_loss: 0.3188 - val_accuracy: 0.8858\n",
      "Epoch 4/5\n",
      "860/860 [==============================] - 413s 480ms/step - loss: 0.1261 - accuracy: 0.9528 - val_loss: 0.3715 - val_accuracy: 0.8875\n",
      "Epoch 5/5\n",
      "860/860 [==============================] - 403s 469ms/step - loss: 0.0570 - accuracy: 0.9793 - val_loss: 0.6608 - val_accuracy: 0.8874\n"
     ]
    }
   ],
   "source": [
    "import tensorflow as tf\n",
    "from tensorflow.keras.layers import Input, Embedding, Flatten, Dense\n",
    "from tensorflow.keras.models import Model\n",
    "from tensorflow.keras.preprocessing.sequence import pad_sequences\n",
    "from tensorflow.keras.layers import Dropout\n",
    "# Define the input layer\n",
    "input_layer = Input(shape=(5000,))  \n",
    "\n",
    "# Add an embedding layer to convert token indices to dense vectors\n",
    "embedding_layer = Embedding(input_dim=5000, output_dim=128)(input_layer)\n",
    "\n",
    "# Flatten the embedded sequences\n",
    "flatten_layer = Flatten()(embedding_layer)\n",
    "\n",
    "# Create the MLP layers\n",
    "dense_layer_1 = Dense(128, activation='relu')(flatten_layer)\n",
    "dense_layer_2 = Dense(64, activation='relu')(dense_layer_1)\n",
    "\n",
    "dropout_layer_1 = Dropout(0.5)(dense_layer_1)\n",
    "dropout_layer_2 = Dropout(0.5)(dense_layer_2)\n",
    "\n",
    "# Output layer with appropriate activation function and units\n",
    "output_layer = Dense(1, activation='sigmoid')(dense_layer_2)  # Use sigmoid for binary classification\n",
    "\n",
    "# Create the model\n",
    "MLP = Model(inputs=input_layer, outputs=output_layer)\n",
    "\n",
    "# Compile the model with an appropriate loss function\n",
    "MLP.compile(loss='binary_crossentropy', optimizer='adam', metrics=['accuracy'])\n",
    "\n",
    "# Ensure you have balanced classes or use class weights\n",
    "# If your data is imbalanced, calculate class weights\n",
    "class_weights = {0: 1.0, 1: 1.0}  # You may need to adjust these values\n",
    "\n",
    "# Train the MLP model with class weights\n",
    "mlp_model = MLP.fit(X_train, y_train, epochs=5, batch_size=32, \n",
    "          validation_data=(X_test, y_test), class_weight=class_weights)\n",
    "\n"
   ]
  },
  {
   "cell_type": "code",
   "execution_count": 12,
   "metadata": {},
   "outputs": [
    {
     "data": {
      "image/png": "[encoded data removed]",
      "text/plain": [
       "<Figure size 640x480 with 1 Axes>"
      ]
     },
     "metadata": {},
     "output_type": "display_data"
    }
   ],
   "source": [
    "plt.plot(mlp_model.history['accuracy'], label='Train')\n",
    "plt.plot(mlp_model.history['val_accuracy'], label='Validation')\n",
    "plt.ylabel('Accuracy')\n",
    "plt.xlabel('Epoch')\n",
    "plt.title('Training and validating accuracy of using MLP')\n",
    "plt.legend()\n",
    "plt.show()"
   ]
  },
  {
   "cell_type": "code",
   "execution_count": 26,
   "metadata": {},
   "outputs": [
    {
     "name": "stdout",
     "output_type": "stream",
     "text": [
      "      id  class\n",
      "0      0      0\n",
      "1      1      0\n",
      "2      2      0\n",
      "3      3      0\n",
      "4      4      0\n",
      "..   ...    ...\n",
      "995  995      0\n",
      "996  996      0\n",
      "997  997      0\n",
      "998  998      0\n",
      "999  999      0\n",
      "\n",
      "[1000 rows x 2 columns]\n"
     ]
    }
   ],
   "source": [
    "prediction = MLP.predict(Test)\n",
    "submission = pd.DataFrame()\n",
    "submission['id'] = df_test['id']\n",
    "submission['class'] = prediction\n",
    "submission = submission.astype({'class':'int'})\n",
    "\n",
    "print(submission)\n",
    "submission.to_csv('submission.csv', header = True, index=False)"
   ]
  },
  {
   "cell_type": "code",
   "execution_count": 8,
   "metadata": {},
   "outputs": [
    {
     "data": {
      "text/plain": [
       "\"import tensorflow as tf\\nimport keras\\nfrom keras import layers\\nimport random\\nmodel = tf.keras.Sequential([\\n    tf.keras.layers.Embedding(10000, 64, mask_zero=True),\\n    tf.keras.layers.Bidirectional(tf.keras.layers.LSTM(64,  return_sequences=True)),\\n    tf.keras.layers.Bidirectional(tf.keras.layers.LSTM(32)),\\n    tf.keras.layers.Dense(64, activation='relu'),\\n    tf.keras.layers.Dropout(0.5),\\n    tf.keras.layers.Dense(1, activation='sigmoid')\\n])\\n\\nmodel.compile(loss='binary_crossentropy',\\n              optimizer=tf.keras.optimizers.Adam(1e-4),\\n              metrics=['accuracy'])\\n\\nhistory = model.fit(X_train, y_train, epochs=5,\\n                    validation_data=(X_test, y_test))\""
      ]
     },
     "execution_count": 8,
     "metadata": {},
     "output_type": "execute_result"
    }
   ],
   "source": [
    "'''import tensorflow as tf\n",
    "import keras\n",
    "from keras import layers\n",
    "import random\n",
    "model = tf.keras.Sequential([\n",
    "    tf.keras.layers.Embedding(10000, 64, mask_zero=True),\n",
    "    tf.keras.layers.Bidirectional(tf.keras.layers.LSTM(64,  return_sequences=True)),\n",
    "    tf.keras.layers.Bidirectional(tf.keras.layers.LSTM(32)),\n",
    "    tf.keras.layers.Dense(64, activation='relu'),\n",
    "    tf.keras.layers.Dropout(0.5),\n",
    "    tf.keras.layers.Dense(1, activation='sigmoid')\n",
    "])\n",
    "\n",
    "model.compile(loss='binary_crossentropy',\n",
    "              optimizer=tf.keras.optimizers.Adam(1e-4),\n",
    "              metrics=['accuracy'])\n",
    "\n",
    "history = model.fit(X_train, y_train, epochs=5,\n",
    "                    validation_data=(X_test, y_test))'''\n",
    "\n"
   ]
  },
  {
   "cell_type": "code",
   "execution_count": 13,
   "metadata": {},
   "outputs": [
    {
     "name": "stdout",
     "output_type": "stream",
     "text": [
      "Epoch 1/5\n",
      "860/860 [==============================] - 20s 23ms/step - loss: 0.4773 - accuracy: 0.7804 - val_loss: 0.3417 - val_accuracy: 0.8853\n",
      "Epoch 2/5\n",
      "860/860 [==============================] - 19s 22ms/step - loss: 0.3157 - accuracy: 0.8952 - val_loss: 0.3120 - val_accuracy: 0.8955\n",
      "Epoch 3/5\n",
      "860/860 [==============================] - 19s 22ms/step - loss: 0.2788 - accuracy: 0.9098 - val_loss: 0.2933 - val_accuracy: 0.9041\n",
      "Epoch 4/5\n",
      "860/860 [==============================] - 19s 22ms/step - loss: 0.2508 - accuracy: 0.9185 - val_loss: 0.2964 - val_accuracy: 0.9006\n",
      "Epoch 5/5\n",
      "860/860 [==============================] - 19s 22ms/step - loss: 0.2142 - accuracy: 0.9284 - val_loss: 0.3135 - val_accuracy: 0.8938\n"
     ]
    },
    {
     "data": {
      "text/plain": [
       "<keras.callbacks.History at 0x23b870b45e0>"
      ]
     },
     "execution_count": 13,
     "metadata": {},
     "output_type": "execute_result"
    }
   ],
   "source": [
    "'''import tensorflow as tf\n",
    "from tensorflow.keras.layers import Embedding, LSTM, Dense\n",
    "from tensorflow.keras.models import Sequential\n",
    "\n",
    "model = Sequential()\n",
    "model.add(Embedding(input_dim=5000, output_dim=128, input_length=100))  # Adjust input_dim and output_dim as needed\n",
    "model.add(LSTM(64))\n",
    "model.add(Dense(1, activation='sigmoid'))  # Example for binary classification\n",
    "\n",
    "# Compile the model\n",
    "model.compile(loss='binary_crossentropy', optimizer='adam', metrics=['accuracy'])\n",
    "class_weights = {0: 1.0, 1: 1.0}\n",
    "# Train the model\n",
    "model.fit(X_train, y_train, epochs=5, validation_data=(X_test, y_test), class_weight=class_weights)'''"
   ]
  },
  {
   "cell_type": "code",
   "execution_count": 14,
   "metadata": {},
   "outputs": [
    {
     "name": "stdout",
     "output_type": "stream",
     "text": [
      "      id  class\n",
      "0      0      0\n",
      "1      1      0\n",
      "2      2      0\n",
      "3      3      0\n",
      "4      4      0\n",
      "..   ...    ...\n",
      "995  995      0\n",
      "996  996      0\n",
      "997  997      0\n",
      "998  998      0\n",
      "999  999      0\n",
      "\n",
      "[1000 rows x 2 columns]\n"
     ]
    }
   ],
   "source": [
    "'''prediction = model.predict(Test)\n",
    "submission = pd.DataFrame()\n",
    "submission['id'] = df_test['id']\n",
    "submission['class'] = prediction\n",
    "submission = submission.astype({'class':'int'})\n",
    "\n",
    "print(submission)\n",
    "submission.to_csv('submission.csv', header = True, index=False)'''"
   ]
  },
  {
   "cell_type": "code",
   "execution_count": 6,
   "metadata": {},
   "outputs": [
    {
     "name": "stdout",
     "output_type": "stream",
     "text": [
      "5000\n"
     ]
    },
    {
     "ename": "KeyboardInterrupt",
     "evalue": "",
     "output_type": "error",
     "traceback": [
      "\u001b[1;31m---------------------------------------------------------------------------\u001b[0m",
      "\u001b[1;31mKeyboardInterrupt\u001b[0m                         Traceback (most recent call last)",
      "\u001b[1;32md:\\ITSM2\\SML\\SML_Assignment1_group44\\Models\\MLP+RNN.ipynb Cell 15\u001b[0m line \u001b[0;36m4\n\u001b[0;32m     <a href='vscode-notebook-cell:/d%3A/ITSM2/SML/SML_Assignment1_group44/Models/MLP%2BRNN.ipynb#X20sZmlsZQ%3D%3D?line=41'>42</a>\u001b[0m bow_data \u001b[39m=\u001b[39m []\n\u001b[0;32m     <a href='vscode-notebook-cell:/d%3A/ITSM2/SML/SML_Assignment1_group44/Models/MLP%2BRNN.ipynb#X20sZmlsZQ%3D%3D?line=42'>43</a>\u001b[0m \u001b[39mfor\u001b[39;00m integer_list \u001b[39min\u001b[39;00m data:\n\u001b[1;32m---> <a href='vscode-notebook-cell:/d%3A/ITSM2/SML/SML_Assignment1_group44/Models/MLP%2BRNN.ipynb#X20sZmlsZQ%3D%3D?line=43'>44</a>\u001b[0m     bow_vector \u001b[39m=\u001b[39m [integer_list\u001b[39m.\u001b[39mcount(word) \u001b[39mfor\u001b[39;00m word \u001b[39min\u001b[39;00m vocabulary]\n\u001b[0;32m     <a href='vscode-notebook-cell:/d%3A/ITSM2/SML/SML_Assignment1_group44/Models/MLP%2BRNN.ipynb#X20sZmlsZQ%3D%3D?line=44'>45</a>\u001b[0m     bow_data\u001b[39m.\u001b[39mappend(bow_vector)\n",
      "\u001b[1;32md:\\ITSM2\\SML\\SML_Assignment1_group44\\Models\\MLP+RNN.ipynb Cell 15\u001b[0m line \u001b[0;36m4\n\u001b[0;32m     <a href='vscode-notebook-cell:/d%3A/ITSM2/SML/SML_Assignment1_group44/Models/MLP%2BRNN.ipynb#X20sZmlsZQ%3D%3D?line=41'>42</a>\u001b[0m bow_data \u001b[39m=\u001b[39m []\n\u001b[0;32m     <a href='vscode-notebook-cell:/d%3A/ITSM2/SML/SML_Assignment1_group44/Models/MLP%2BRNN.ipynb#X20sZmlsZQ%3D%3D?line=42'>43</a>\u001b[0m \u001b[39mfor\u001b[39;00m integer_list \u001b[39min\u001b[39;00m data:\n\u001b[1;32m---> <a href='vscode-notebook-cell:/d%3A/ITSM2/SML/SML_Assignment1_group44/Models/MLP%2BRNN.ipynb#X20sZmlsZQ%3D%3D?line=43'>44</a>\u001b[0m     bow_vector \u001b[39m=\u001b[39m [integer_list\u001b[39m.\u001b[39mcount(word) \u001b[39mfor\u001b[39;00m word \u001b[39min\u001b[39;00m vocabulary]\n\u001b[0;32m     <a href='vscode-notebook-cell:/d%3A/ITSM2/SML/SML_Assignment1_group44/Models/MLP%2BRNN.ipynb#X20sZmlsZQ%3D%3D?line=44'>45</a>\u001b[0m     bow_data\u001b[39m.\u001b[39mappend(bow_vector)\n",
      "\u001b[1;31mKeyboardInterrupt\u001b[0m: "
     ]
    }
   ],
   "source": [
    "# read the data\n",
    "import json\n",
    "domain1 = []\n",
    "with open('../data/domain1_train.json', 'r') as json_file:\n",
    "    for line in json_file:\n",
    "        try:\n",
    "            json_data = json.loads(line)\n",
    "            domain1.append(json_data)\n",
    "        except json.JSONDecodeError as e:\n",
    "            print(f\"Error parsing JSON: {e}\")\n",
    "domain2 = []\n",
    "with open('../data/domain2_train.json', 'r') as json_file:\n",
    "    for line in json_file:\n",
    "        try:\n",
    "            json_data = json.loads(line)\n",
    "            domain2.append(json_data)\n",
    "        except json.JSONDecodeError as e:\n",
    "            print(f\"Error parsing JSON: {e}\")\n",
    "all_domain = domain1 + domain2\n",
    "\n",
    "\n",
    "old_text = []\n",
    "labels = []\n",
    "for i in range(len(all_domain)):\n",
    "    old_text.append(all_domain[i]['text'])\n",
    "    labels.append(all_domain[i]['label'])\n",
    "\n",
    "\n",
    "# 将token用bow表示\n",
    "# 这个的问题就是feature维度太大了\n",
    "data = old_text\n",
    "# 假设你有一个包含不同长度整数列表的数据集 data\n",
    "unique_integers = set()\n",
    "for integer_list in data:\n",
    "    unique_integers.update(integer_list)\n",
    "\n",
    "# 将整数列表转化为一个有序列表\n",
    "vocabulary = sorted(list(unique_integers))\n",
    "print(len(vocabulary))\n",
    "\n",
    "# 构建 BOW 表示\n",
    "bow_data = []\n",
    "for integer_list in data:\n",
    "    bow_vector = [integer_list.count(word) for word in vocabulary]\n",
    "    bow_data.append(bow_vector)"
   ]
  }
 ],
 "metadata": {
  "kernelspec": {
   "display_name": "base",
   "language": "python",
   "name": "python3"
  },
  "language_info": {
   "codemirror_mode": {
    "name": "ipython",
    "version": 3
   },
   "file_extension": ".py",
   "mimetype": "text/x-python",
   "name": "python",
   "nbconvert_exporter": "python",
   "pygments_lexer": "ipython3",
   "version": "3.9.17"
  },
  "orig_nbformat": 4
 },
 "nbformat": 4,
 "nbformat_minor": 2
}
